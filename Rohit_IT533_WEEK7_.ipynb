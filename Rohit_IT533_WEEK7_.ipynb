{
  "cells": [
    {
      "cell_type": "code",
      "execution_count": null,
      "metadata": {
        "colab": {
          "base_uri": "https://localhost:8080/",
          "height": 514
        },
        "id": "s8HDs09ofzHD",
        "outputId": "4ead850a-1070-4e13-dcd5-742a33e550d9"
      },
      "outputs": [
        {
          "name": "stderr",
          "output_type": "stream",
          "text": [
            "/usr/local/lib/python3.7/dist-packages/statsmodels/tools/_testing.py:19: FutureWarning: pandas.util.testing is deprecated. Use the functions in the public API at pandas.testing instead.\n",
            "  import pandas.util.testing as tm\n"
          ]
        },
        {
          "data": {
            "text/html": [
              "\n",
              "  <div id=\"df-61d5acd6-43df-4aa3-a304-03235b169c0a\">\n",
              "    <div class=\"colab-df-container\">\n",
              "      <div>\n",
              "<style scoped>\n",
              "    .dataframe tbody tr th:only-of-type {\n",
              "        vertical-align: middle;\n",
              "    }\n",
              "\n",
              "    .dataframe tbody tr th {\n",
              "        vertical-align: top;\n",
              "    }\n",
              "\n",
              "    .dataframe thead th {\n",
              "        text-align: right;\n",
              "    }\n",
              "</style>\n",
              "<table border=\"1\" class=\"dataframe\">\n",
              "  <thead>\n",
              "    <tr style=\"text-align: right;\">\n",
              "      <th></th>\n",
              "      <th>ID</th>\n",
              "      <th>name</th>\n",
              "      <th>category</th>\n",
              "      <th>main_category</th>\n",
              "      <th>currency</th>\n",
              "      <th>deadline</th>\n",
              "      <th>goal</th>\n",
              "      <th>launched</th>\n",
              "      <th>pledged</th>\n",
              "      <th>state</th>\n",
              "      <th>backers</th>\n",
              "      <th>country</th>\n",
              "      <th>usd_pledged</th>\n",
              "      <th>usd_pledged_real</th>\n",
              "      <th>usd_goal_real</th>\n",
              "    </tr>\n",
              "  </thead>\n",
              "  <tbody>\n",
              "    <tr>\n",
              "      <th>0</th>\n",
              "      <td>1008941852</td>\n",
              "      <td>The return of BABY UNIVERSE!</td>\n",
              "      <td>Immersive</td>\n",
              "      <td>Theater</td>\n",
              "      <td>USD</td>\n",
              "      <td>1/1/2015</td>\n",
              "      <td>15000</td>\n",
              "      <td>12/4/2014 21:37</td>\n",
              "      <td>11880.18</td>\n",
              "      <td>failed</td>\n",
              "      <td>46</td>\n",
              "      <td>US</td>\n",
              "      <td>11880.18</td>\n",
              "      <td>11880.18</td>\n",
              "      <td>15000.00</td>\n",
              "    </tr>\n",
              "    <tr>\n",
              "      <th>1</th>\n",
              "      <td>1013503401</td>\n",
              "      <td>Potjie</td>\n",
              "      <td>Drama</td>\n",
              "      <td>Film &amp; Video</td>\n",
              "      <td>GBP</td>\n",
              "      <td>1/1/2015</td>\n",
              "      <td>4500</td>\n",
              "      <td>12/2/2014 18:10</td>\n",
              "      <td>4843.00</td>\n",
              "      <td>successful</td>\n",
              "      <td>67</td>\n",
              "      <td>GB</td>\n",
              "      <td>7560.32</td>\n",
              "      <td>7477.46</td>\n",
              "      <td>6947.88</td>\n",
              "    </tr>\n",
              "    <tr>\n",
              "      <th>2</th>\n",
              "      <td>1020446396</td>\n",
              "      <td>Stilt City- A Bungalow Artist Space in The Roc...</td>\n",
              "      <td>Public Art</td>\n",
              "      <td>Art</td>\n",
              "      <td>USD</td>\n",
              "      <td>1/1/2015</td>\n",
              "      <td>60000</td>\n",
              "      <td>11/19/2014 23:14</td>\n",
              "      <td>18087.00</td>\n",
              "      <td>canceled</td>\n",
              "      <td>204</td>\n",
              "      <td>US</td>\n",
              "      <td>18087.00</td>\n",
              "      <td>18087.00</td>\n",
              "      <td>60000.00</td>\n",
              "    </tr>\n",
              "    <tr>\n",
              "      <th>3</th>\n",
              "      <td>1028008131</td>\n",
              "      <td>A 2D SideScroller RPG Made by YOU (Canceled)</td>\n",
              "      <td>Video Games</td>\n",
              "      <td>Games</td>\n",
              "      <td>USD</td>\n",
              "      <td>1/1/2015</td>\n",
              "      <td>20000</td>\n",
              "      <td>12/2/2014 22:02</td>\n",
              "      <td>9.00</td>\n",
              "      <td>canceled</td>\n",
              "      <td>2</td>\n",
              "      <td>US</td>\n",
              "      <td>9.00</td>\n",
              "      <td>9.00</td>\n",
              "      <td>20000.00</td>\n",
              "    </tr>\n",
              "    <tr>\n",
              "      <th>4</th>\n",
              "      <td>1049544313</td>\n",
              "      <td>Balteus Belt</td>\n",
              "      <td>Apparel</td>\n",
              "      <td>Fashion</td>\n",
              "      <td>USD</td>\n",
              "      <td>1/1/2015</td>\n",
              "      <td>8000</td>\n",
              "      <td>11/18/2014 21:17</td>\n",
              "      <td>1563.00</td>\n",
              "      <td>failed</td>\n",
              "      <td>16</td>\n",
              "      <td>US</td>\n",
              "      <td>1563.00</td>\n",
              "      <td>1563.00</td>\n",
              "      <td>8000.00</td>\n",
              "    </tr>\n",
              "  </tbody>\n",
              "</table>\n",
              "</div>\n",
              "      <button class=\"colab-df-convert\" onclick=\"convertToInteractive('df-61d5acd6-43df-4aa3-a304-03235b169c0a')\"\n",
              "              title=\"Convert this dataframe to an interactive table.\"\n",
              "              style=\"display:none;\">\n",
              "        \n",
              "  <svg xmlns=\"http://www.w3.org/2000/svg\" height=\"24px\"viewBox=\"0 0 24 24\"\n",
              "       width=\"24px\">\n",
              "    <path d=\"M0 0h24v24H0V0z\" fill=\"none\"/>\n",
              "    <path d=\"M18.56 5.44l.94 2.06.94-2.06 2.06-.94-2.06-.94-.94-2.06-.94 2.06-2.06.94zm-11 1L8.5 8.5l.94-2.06 2.06-.94-2.06-.94L8.5 2.5l-.94 2.06-2.06.94zm10 10l.94 2.06.94-2.06 2.06-.94-2.06-.94-.94-2.06-.94 2.06-2.06.94z\"/><path d=\"M17.41 7.96l-1.37-1.37c-.4-.4-.92-.59-1.43-.59-.52 0-1.04.2-1.43.59L10.3 9.45l-7.72 7.72c-.78.78-.78 2.05 0 2.83L4 21.41c.39.39.9.59 1.41.59.51 0 1.02-.2 1.41-.59l7.78-7.78 2.81-2.81c.8-.78.8-2.07 0-2.86zM5.41 20L4 18.59l7.72-7.72 1.47 1.35L5.41 20z\"/>\n",
              "  </svg>\n",
              "      </button>\n",
              "      \n",
              "  <style>\n",
              "    .colab-df-container {\n",
              "      display:flex;\n",
              "      flex-wrap:wrap;\n",
              "      gap: 12px;\n",
              "    }\n",
              "\n",
              "    .colab-df-convert {\n",
              "      background-color: #E8F0FE;\n",
              "      border: none;\n",
              "      border-radius: 50%;\n",
              "      cursor: pointer;\n",
              "      display: none;\n",
              "      fill: #1967D2;\n",
              "      height: 32px;\n",
              "      padding: 0 0 0 0;\n",
              "      width: 32px;\n",
              "    }\n",
              "\n",
              "    .colab-df-convert:hover {\n",
              "      background-color: #E2EBFA;\n",
              "      box-shadow: 0px 1px 2px rgba(60, 64, 67, 0.3), 0px 1px 3px 1px rgba(60, 64, 67, 0.15);\n",
              "      fill: #174EA6;\n",
              "    }\n",
              "\n",
              "    [theme=dark] .colab-df-convert {\n",
              "      background-color: #3B4455;\n",
              "      fill: #D2E3FC;\n",
              "    }\n",
              "\n",
              "    [theme=dark] .colab-df-convert:hover {\n",
              "      background-color: #434B5C;\n",
              "      box-shadow: 0px 1px 3px 1px rgba(0, 0, 0, 0.15);\n",
              "      filter: drop-shadow(0px 1px 2px rgba(0, 0, 0, 0.3));\n",
              "      fill: #FFFFFF;\n",
              "    }\n",
              "  </style>\n",
              "\n",
              "      <script>\n",
              "        const buttonEl =\n",
              "          document.querySelector('#df-61d5acd6-43df-4aa3-a304-03235b169c0a button.colab-df-convert');\n",
              "        buttonEl.style.display =\n",
              "          google.colab.kernel.accessAllowed ? 'block' : 'none';\n",
              "\n",
              "        async function convertToInteractive(key) {\n",
              "          const element = document.querySelector('#df-61d5acd6-43df-4aa3-a304-03235b169c0a');\n",
              "          const dataTable =\n",
              "            await google.colab.kernel.invokeFunction('convertToInteractive',\n",
              "                                                     [key], {});\n",
              "          if (!dataTable) return;\n",
              "\n",
              "          const docLinkHtml = 'Like what you see? Visit the ' +\n",
              "            '<a target=\"_blank\" href=https://colab.research.google.com/notebooks/data_table.ipynb>data table notebook</a>'\n",
              "            + ' to learn more about interactive tables.';\n",
              "          element.innerHTML = '';\n",
              "          dataTable['output_type'] = 'display_data';\n",
              "          await google.colab.output.renderOutput(dataTable, element);\n",
              "          const docLink = document.createElement('div');\n",
              "          docLink.innerHTML = docLinkHtml;\n",
              "          element.appendChild(docLink);\n",
              "        }\n",
              "      </script>\n",
              "    </div>\n",
              "  </div>\n",
              "  "
            ],
            "text/plain": [
              "           ID                                               name     category  \\\n",
              "0  1008941852                       The return of BABY UNIVERSE!    Immersive   \n",
              "1  1013503401                                             Potjie        Drama   \n",
              "2  1020446396  Stilt City- A Bungalow Artist Space in The Roc...   Public Art   \n",
              "3  1028008131       A 2D SideScroller RPG Made by YOU (Canceled)  Video Games   \n",
              "4  1049544313                                       Balteus Belt      Apparel   \n",
              "\n",
              "  main_category currency  deadline   goal          launched   pledged  \\\n",
              "0       Theater      USD  1/1/2015  15000   12/4/2014 21:37  11880.18   \n",
              "1  Film & Video      GBP  1/1/2015   4500   12/2/2014 18:10   4843.00   \n",
              "2           Art      USD  1/1/2015  60000  11/19/2014 23:14  18087.00   \n",
              "3         Games      USD  1/1/2015  20000   12/2/2014 22:02      9.00   \n",
              "4       Fashion      USD  1/1/2015   8000  11/18/2014 21:17   1563.00   \n",
              "\n",
              "        state  backers country  usd_pledged  usd_pledged_real  usd_goal_real  \n",
              "0      failed       46      US     11880.18          11880.18       15000.00  \n",
              "1  successful       67      GB      7560.32           7477.46        6947.88  \n",
              "2    canceled      204      US     18087.00          18087.00       60000.00  \n",
              "3    canceled        2      US         9.00              9.00       20000.00  \n",
              "4      failed       16      US      1563.00           1563.00        8000.00  "
            ]
          },
          "execution_count": 2,
          "metadata": {},
          "output_type": "execute_result"
        }
      ],
      "source": [
        "# Import the necessary libraries. \n",
        "import numpy as np\n",
        "import pandas as pd \n",
        "import matplotlib.pyplot as plt\n",
        "from scipy import spatial\n",
        "import statsmodels.api as sm\n",
        "from sklearn.ensemble import RandomForestClassifier\n",
        "from sklearn.model_selection import train_test_split\n",
        "from sklearn.metrics import accuracy_score\n",
        "import warnings\n",
        "warnings.filterwarnings(\"ignore\")\n",
        "np.random.seed(42) \n",
        "kickstarter = pd.read_csv(\"https://raw.githubusercontent.com/shstreuber/Data-Mining/master/data/kickstarter-projects-201518.csv\", encoding=\"ISO-8859-1\") # USE YOUR OWN GITHUB PATH HERE\n",
        "kickstarter = kickstarter.rename(columns = {'usd pledged': 'usd_pledged'}) \n",
        "kickstarter.dropna(inplace=True) \n",
        "kickstarter.head()"
      ]
    },
    {
      "cell_type": "code",
      "execution_count": null,
      "metadata": {
        "colab": {
          "base_uri": "https://localhost:8080/",
          "height": 206
        },
        "id": "jINtygpEhxEB",
        "outputId": "6cd9ccb9-c5b2-40fc-e26c-656e97bea47e"
      },
      "outputs": [
        {
          "data": {
            "text/html": [
              "\n",
              "  <div id=\"df-55bb7d6f-e666-48db-a906-d1ed76fdaff6\">\n",
              "    <div class=\"colab-df-container\">\n",
              "      <div>\n",
              "<style scoped>\n",
              "    .dataframe tbody tr th:only-of-type {\n",
              "        vertical-align: middle;\n",
              "    }\n",
              "\n",
              "    .dataframe tbody tr th {\n",
              "        vertical-align: top;\n",
              "    }\n",
              "\n",
              "    .dataframe thead th {\n",
              "        text-align: right;\n",
              "    }\n",
              "</style>\n",
              "<table border=\"1\" class=\"dataframe\">\n",
              "  <thead>\n",
              "    <tr style=\"text-align: right;\">\n",
              "      <th></th>\n",
              "      <th>goal</th>\n",
              "      <th>backers</th>\n",
              "      <th>pledged</th>\n",
              "      <th>usd_pledged</th>\n",
              "      <th>state</th>\n",
              "    </tr>\n",
              "  </thead>\n",
              "  <tbody>\n",
              "    <tr>\n",
              "      <th>0</th>\n",
              "      <td>15000</td>\n",
              "      <td>46</td>\n",
              "      <td>11880.18</td>\n",
              "      <td>11880.18</td>\n",
              "      <td>failed</td>\n",
              "    </tr>\n",
              "    <tr>\n",
              "      <th>1</th>\n",
              "      <td>4500</td>\n",
              "      <td>67</td>\n",
              "      <td>4843.00</td>\n",
              "      <td>7560.32</td>\n",
              "      <td>successful</td>\n",
              "    </tr>\n",
              "    <tr>\n",
              "      <th>2</th>\n",
              "      <td>60000</td>\n",
              "      <td>204</td>\n",
              "      <td>18087.00</td>\n",
              "      <td>18087.00</td>\n",
              "      <td>canceled</td>\n",
              "    </tr>\n",
              "    <tr>\n",
              "      <th>3</th>\n",
              "      <td>20000</td>\n",
              "      <td>2</td>\n",
              "      <td>9.00</td>\n",
              "      <td>9.00</td>\n",
              "      <td>canceled</td>\n",
              "    </tr>\n",
              "    <tr>\n",
              "      <th>4</th>\n",
              "      <td>8000</td>\n",
              "      <td>16</td>\n",
              "      <td>1563.00</td>\n",
              "      <td>1563.00</td>\n",
              "      <td>failed</td>\n",
              "    </tr>\n",
              "  </tbody>\n",
              "</table>\n",
              "</div>\n",
              "      <button class=\"colab-df-convert\" onclick=\"convertToInteractive('df-55bb7d6f-e666-48db-a906-d1ed76fdaff6')\"\n",
              "              title=\"Convert this dataframe to an interactive table.\"\n",
              "              style=\"display:none;\">\n",
              "        \n",
              "  <svg xmlns=\"http://www.w3.org/2000/svg\" height=\"24px\"viewBox=\"0 0 24 24\"\n",
              "       width=\"24px\">\n",
              "    <path d=\"M0 0h24v24H0V0z\" fill=\"none\"/>\n",
              "    <path d=\"M18.56 5.44l.94 2.06.94-2.06 2.06-.94-2.06-.94-.94-2.06-.94 2.06-2.06.94zm-11 1L8.5 8.5l.94-2.06 2.06-.94-2.06-.94L8.5 2.5l-.94 2.06-2.06.94zm10 10l.94 2.06.94-2.06 2.06-.94-2.06-.94-.94-2.06-.94 2.06-2.06.94z\"/><path d=\"M17.41 7.96l-1.37-1.37c-.4-.4-.92-.59-1.43-.59-.52 0-1.04.2-1.43.59L10.3 9.45l-7.72 7.72c-.78.78-.78 2.05 0 2.83L4 21.41c.39.39.9.59 1.41.59.51 0 1.02-.2 1.41-.59l7.78-7.78 2.81-2.81c.8-.78.8-2.07 0-2.86zM5.41 20L4 18.59l7.72-7.72 1.47 1.35L5.41 20z\"/>\n",
              "  </svg>\n",
              "      </button>\n",
              "      \n",
              "  <style>\n",
              "    .colab-df-container {\n",
              "      display:flex;\n",
              "      flex-wrap:wrap;\n",
              "      gap: 12px;\n",
              "    }\n",
              "\n",
              "    .colab-df-convert {\n",
              "      background-color: #E8F0FE;\n",
              "      border: none;\n",
              "      border-radius: 50%;\n",
              "      cursor: pointer;\n",
              "      display: none;\n",
              "      fill: #1967D2;\n",
              "      height: 32px;\n",
              "      padding: 0 0 0 0;\n",
              "      width: 32px;\n",
              "    }\n",
              "\n",
              "    .colab-df-convert:hover {\n",
              "      background-color: #E2EBFA;\n",
              "      box-shadow: 0px 1px 2px rgba(60, 64, 67, 0.3), 0px 1px 3px 1px rgba(60, 64, 67, 0.15);\n",
              "      fill: #174EA6;\n",
              "    }\n",
              "\n",
              "    [theme=dark] .colab-df-convert {\n",
              "      background-color: #3B4455;\n",
              "      fill: #D2E3FC;\n",
              "    }\n",
              "\n",
              "    [theme=dark] .colab-df-convert:hover {\n",
              "      background-color: #434B5C;\n",
              "      box-shadow: 0px 1px 3px 1px rgba(0, 0, 0, 0.15);\n",
              "      filter: drop-shadow(0px 1px 2px rgba(0, 0, 0, 0.3));\n",
              "      fill: #FFFFFF;\n",
              "    }\n",
              "  </style>\n",
              "\n",
              "      <script>\n",
              "        const buttonEl =\n",
              "          document.querySelector('#df-55bb7d6f-e666-48db-a906-d1ed76fdaff6 button.colab-df-convert');\n",
              "        buttonEl.style.display =\n",
              "          google.colab.kernel.accessAllowed ? 'block' : 'none';\n",
              "\n",
              "        async function convertToInteractive(key) {\n",
              "          const element = document.querySelector('#df-55bb7d6f-e666-48db-a906-d1ed76fdaff6');\n",
              "          const dataTable =\n",
              "            await google.colab.kernel.invokeFunction('convertToInteractive',\n",
              "                                                     [key], {});\n",
              "          if (!dataTable) return;\n",
              "\n",
              "          const docLinkHtml = 'Like what you see? Visit the ' +\n",
              "            '<a target=\"_blank\" href=https://colab.research.google.com/notebooks/data_table.ipynb>data table notebook</a>'\n",
              "            + ' to learn more about interactive tables.';\n",
              "          element.innerHTML = '';\n",
              "          dataTable['output_type'] = 'display_data';\n",
              "          await google.colab.output.renderOutput(dataTable, element);\n",
              "          const docLink = document.createElement('div');\n",
              "          docLink.innerHTML = docLinkHtml;\n",
              "          element.appendChild(docLink);\n",
              "        }\n",
              "      </script>\n",
              "    </div>\n",
              "  </div>\n",
              "  "
            ],
            "text/plain": [
              "    goal  backers   pledged  usd_pledged       state\n",
              "0  15000       46  11880.18     11880.18      failed\n",
              "1   4500       67   4843.00      7560.32  successful\n",
              "2  60000      204  18087.00     18087.00    canceled\n",
              "3  20000        2      9.00         9.00    canceled\n",
              "4   8000       16   1563.00      1563.00      failed"
            ]
          },
          "execution_count": 3,
          "metadata": {},
          "output_type": "execute_result"
        }
      ],
      "source": [
        "kickstarter_rf = pd.DataFrame(kickstarter, columns = [ 'goal', 'backers','pledged','usd_pledged', 'state'])\n",
        "kickstarter_rf.head()"
      ]
    },
    {
      "cell_type": "code",
      "execution_count": null,
      "metadata": {
        "colab": {
          "base_uri": "https://localhost:8080/"
        },
        "id": "WUQWmvC3iP_h",
        "outputId": "aac97a2f-52ab-45d7-c046-94e74fb1920d"
      },
      "outputs": [
        {
          "name": "stdout",
          "output_type": "stream",
          "text": [
            "X_train shape: (150756, 4)\n",
            "X_test shape: (37689, 4)\n"
          ]
        }
      ],
      "source": [
        "from sklearn.model_selection import train_test_split\n",
        "x=kickstarter_rf.iloc[:,:4] \n",
        "y=kickstarter_rf['state'] \n",
        "X_train, X_test, y_train, y_test = train_test_split(x, y, test_size = 0.2) \n",
        "print(\"X_train shape: {}\".format(X_train.shape))\n",
        "print(\"X_test shape: {}\".format(X_test.shape))"
      ]
    },
    {
      "cell_type": "code",
      "execution_count": null,
      "metadata": {
        "colab": {
          "base_uri": "https://localhost:8080/"
        },
        "id": "WTVQyQqDiiFo",
        "outputId": "7275b8c5-f364-4b56-cdc8-5ed20edee898"
      },
      "outputs": [
        {
          "data": {
            "text/plain": [
              "<bound method BaseEstimator.get_params of RandomForestClassifier()>"
            ]
          },
          "execution_count": 5,
          "metadata": {},
          "output_type": "execute_result"
        }
      ],
      "source": [
        "rf = RandomForestClassifier()\n",
        "rf.get_params"
      ]
    },
    {
      "cell_type": "code",
      "execution_count": null,
      "metadata": {
        "colab": {
          "base_uri": "https://localhost:8080/"
        },
        "id": "UeVE-erwilch",
        "outputId": "edce37e3-2602-4f5a-a4b1-da0719d745ca"
      },
      "outputs": [
        {
          "data": {
            "text/plain": [
              "RandomForestClassifier()"
            ]
          },
          "execution_count": 6,
          "metadata": {},
          "output_type": "execute_result"
        }
      ],
      "source": [
        "rf.fit(X_train, y_train)"
      ]
    },
    {
      "cell_type": "code",
      "execution_count": null,
      "metadata": {
        "id": "p1n6CzwCkuiw"
      },
      "outputs": [],
      "source": [
        "y_pred = rf.predict(X_test)\n"
      ]
    },
    {
      "cell_type": "code",
      "execution_count": null,
      "metadata": {
        "colab": {
          "base_uri": "https://localhost:8080/"
        },
        "id": "ynGSQ0awkzrQ",
        "outputId": "1c5f7886-015a-419d-ba46-62941906565a"
      },
      "outputs": [
        {
          "data": {
            "text/plain": [
              "0.8454986866194381"
            ]
          },
          "execution_count": 8,
          "metadata": {},
          "output_type": "execute_result"
        }
      ],
      "source": [
        "accuracy_score(y_test, y_pred)"
      ]
    },
    {
      "cell_type": "code",
      "execution_count": null,
      "metadata": {
        "colab": {
          "base_uri": "https://localhost:8080/",
          "height": 297
        },
        "id": "YBpqsvDUk4EX",
        "outputId": "d9465cb4-aeb4-4063-fa96-ffd76bdacb33"
      },
      "outputs": [
        {
          "data": {
            "text/plain": [
              "<sklearn.metrics._plot.confusion_matrix.ConfusionMatrixDisplay at 0x7f9bf131c490>"
            ]
          },
          "execution_count": 9,
          "metadata": {},
          "output_type": "execute_result"
        },
        {
          "data": {
            "image/png": "[encoded data removed]",
            "text/plain": [
              "<Figure size 432x288 with 2 Axes>"
            ]
          },
          "metadata": {},
          "output_type": "display_data"
        }
      ],
      "source": [
        "from sklearn.metrics import plot_confusion_matrix\n",
        "plot_confusion_matrix(rf, X_test, y_test)"
      ]
    },
    {
      "cell_type": "code",
      "execution_count": null,
      "metadata": {
        "colab": {
          "base_uri": "https://localhost:8080/"
        },
        "id": "E1N07_rHseDM",
        "outputId": "7535de63-f227-462f-cdd0-92aa133f2ed2"
      },
      "outputs": [
        {
          "name": "stdout",
          "output_type": "stream",
          "text": [
            "              precision    recall  f1-score   support\n",
            "\n",
            "    canceled       0.24      0.04      0.07      4523\n",
            "      failed       0.80      0.97      0.88     20462\n",
            "  successful       0.97      1.00      0.99     11879\n",
            "   suspended       0.00      0.00      0.00       292\n",
            "\n",
            "   micro avg       0.85      0.86      0.85     37156\n",
            "   macro avg       0.50      0.50      0.48     37156\n",
            "weighted avg       0.78      0.86      0.81     37156\n",
            "\n"
          ]
        }
      ],
      "source": [
        "import sklearn.metrics as metrics\n",
        "from sklearn.metrics import classification_report\n",
        "\n",
        "print(metrics.classification_report(y_test, y_pred, labels=['canceled', 'failed', 'successful', 'suspended']))"
      ]
    },
    {
      "cell_type": "markdown",
      "source": [
        "1. Building the model with 100 trees along with the accuracy score, confusion matrix, and classification report. The 100 trees is the basic number we are taking here.Then we have to calculate the accuracy, confusion matrix and the classification report using the syntax belox."
      ],
      "metadata": {
        "id": "j7T8voSPPhAl"
      }
    },
    {
      "cell_type": "code",
      "execution_count": null,
      "metadata": {
        "id": "sytmuwn9mHL4"
      },
      "outputs": [],
      "source": [
        "n_estimators = 100 # This is the number of different trees to build; default was 100; we are increasing this number tenfold.\n",
        "min_samples_split = 5 # Previously, we ran this with the default split of 2\n",
        "criterion='entropy' "
      ]
    },
    {
      "cell_type": "code",
      "execution_count": null,
      "metadata": {
        "colab": {
          "base_uri": "https://localhost:8080/"
        },
        "id": "OPrkCKbAsrAY",
        "outputId": "f9cf5e04-4164-4ab9-e063-db130adae000"
      },
      "outputs": [
        {
          "name": "stderr",
          "output_type": "stream",
          "text": [
            "[Parallel(n_jobs=1)]: Using backend SequentialBackend with 1 concurrent workers.\n",
            "[Parallel(n_jobs=1)]: Done 100 out of 100 | elapsed:   42.7s finished\n"
          ]
        },
        {
          "data": {
            "text/plain": [
              "RandomForestClassifier(criterion='entropy', min_samples_split=5, verbose=1)"
            ]
          },
          "execution_count": 12,
          "metadata": {},
          "output_type": "execute_result"
        }
      ],
      "source": [
        "rf2 = RandomForestClassifier(verbose=1, n_estimators=n_estimators, min_samples_split=min_samples_split, criterion=criterion)\n",
        "rf2.fit(X_train, y_train)"
      ]
    },
    {
      "cell_type": "code",
      "execution_count": null,
      "metadata": {
        "colab": {
          "base_uri": "https://localhost:8080/",
          "height": 569
        },
        "id": "8vJy5UTOs-Bv",
        "outputId": "8e20fab9-2a4a-4a14-a67f-bcaaff7d7a44"
      },
      "outputs": [
        {
          "name": "stderr",
          "output_type": "stream",
          "text": [
            "[Parallel(n_jobs=1)]: Using backend SequentialBackend with 1 concurrent workers.\n",
            "[Parallel(n_jobs=1)]: Done 100 out of 100 | elapsed:    1.2s finished\n",
            "[Parallel(n_jobs=1)]: Using backend SequentialBackend with 1 concurrent workers.\n"
          ]
        },
        {
          "name": "stdout",
          "output_type": "stream",
          "text": [
            "0.849452094775664\n"
          ]
        },
        {
          "name": "stderr",
          "output_type": "stream",
          "text": [
            "[Parallel(n_jobs=1)]: Done 100 out of 100 | elapsed:    1.2s finished\n"
          ]
        },
        {
          "name": "stdout",
          "output_type": "stream",
          "text": [
            "              precision    recall  f1-score   support\n",
            "\n",
            "    canceled       0.25      0.03      0.05      4523\n",
            "      failed       0.80      0.98      0.88     20462\n",
            "   succesful       0.00      0.00      0.00         0\n",
            "   suspended       0.00      0.00      0.00       292\n",
            "\n",
            "   micro avg       0.79      0.80      0.79     25277\n",
            "   macro avg       0.26      0.25      0.23     25277\n",
            "weighted avg       0.69      0.80      0.72     25277\n",
            "\n"
          ]
        },
        {
          "data": {
            "image/png": "[encoded data removed]",
            "text/plain": [
              "<Figure size 432x288 with 2 Axes>"
            ]
          },
          "metadata": {},
          "output_type": "display_data"
        }
      ],
      "source": [
        "y_pred = rf2.predict(X_test)\n",
        "\n",
        "print(accuracy_score(y_test, y_pred))\n",
        "plot_confusion_matrix(rf2, X_test, y_test)\n",
        "print(metrics.classification_report(y_test, y_pred, labels=['canceled', 'failed', 'succesful', 'suspended']))"
      ]
    },
    {
      "cell_type": "markdown",
      "source": [
        "2. Building the model with 1,000 trees and showing the accuracy score, confusion matrix and classification report. Here we have to chane the number of trees from 100 to 1000 and then we have to calculate the accuracy score, confusion matrix and classification report."
      ],
      "metadata": {
        "id": "mAykWJBQP-ro"
      }
    },
    {
      "cell_type": "code",
      "execution_count": null,
      "metadata": {
        "id": "a0zMUqXstOsi"
      },
      "outputs": [],
      "source": [
        "n_estimators = 1000 \n",
        "min_samples_split = 5 \n",
        "criterion='entropy' "
      ]
    },
    {
      "cell_type": "code",
      "execution_count": null,
      "metadata": {
        "colab": {
          "background_save": true,
          "base_uri": "https://localhost:8080/"
        },
        "id": "XcwxnJPRxeon",
        "outputId": "b576606f-11d0-432c-b10b-72bb4637f710"
      },
      "outputs": [
        {
          "name": "stderr",
          "output_type": "stream",
          "text": [
            "[Parallel(n_jobs=1)]: Using backend SequentialBackend with 1 concurrent workers.\n",
            "[Parallel(n_jobs=1)]: Done 1000 out of 1000 | elapsed:  7.3min finished\n"
          ]
        },
        {
          "data": {
            "text/plain": [
              "RandomForestClassifier(criterion='entropy', min_samples_split=5,\n",
              "                       n_estimators=1000, verbose=1)"
            ]
          },
          "execution_count": null,
          "metadata": {},
          "output_type": "execute_result"
        }
      ],
      "source": [
        "rf2 = RandomForestClassifier(verbose=1, n_estimators=n_estimators, min_samples_split=min_samples_split, criterion=criterion)\n",
        "rf2.fit(X_train, y_train)"
      ]
    },
    {
      "cell_type": "code",
      "execution_count": 23,
      "metadata": {
        "colab": {
          "base_uri": "https://localhost:8080/",
          "height": 569
        },
        "id": "SXBu4OgCxWnU",
        "outputId": "d8f27165-2e83-40c0-b38f-c4aa97a41963"
      },
      "outputs": [
        {
          "output_type": "stream",
          "name": "stderr",
          "text": [
            "[Parallel(n_jobs=1)]: Using backend SequentialBackend with 1 concurrent workers.\n",
            "[Parallel(n_jobs=1)]: Done 1000 out of 1000 | elapsed:   20.3s finished\n",
            "[Parallel(n_jobs=1)]: Using backend SequentialBackend with 1 concurrent workers.\n"
          ]
        },
        {
          "output_type": "stream",
          "name": "stdout",
          "text": [
            "0.8502480829950383\n"
          ]
        },
        {
          "output_type": "stream",
          "name": "stderr",
          "text": [
            "[Parallel(n_jobs=1)]: Done 1000 out of 1000 | elapsed:   19.8s finished\n"
          ]
        },
        {
          "output_type": "stream",
          "name": "stdout",
          "text": [
            "              precision    recall  f1-score   support\n",
            "\n",
            "    canceled       0.26      0.03      0.05      4523\n",
            "      failed       0.80      0.98      0.88     20462\n",
            "   succesful       0.00      0.00      0.00         0\n",
            "   suspended       0.00      0.00      0.00       292\n",
            "\n",
            "   micro avg       0.79      0.80      0.79     25277\n",
            "   macro avg       0.27      0.25      0.23     25277\n",
            "weighted avg       0.70      0.80      0.72     25277\n",
            "\n"
          ]
        },
        {
          "output_type": "display_data",
          "data": {
            "text/plain": [
              "<Figure size 432x288 with 2 Axes>"
            ],
            "image/png": "[encoded data removed]"
          },
          "metadata": {
            "needs_background": "light"
          }
        }
      ],
      "source": [
        "y_pred = rf2.predict(X_test)\n",
        "\n",
        "print(accuracy_score(y_test, y_pred))\n",
        "plot_confusion_matrix(rf2, X_test, y_test)\n",
        "print(metrics.classification_report(y_test, y_pred, labels=['canceled', 'failed', 'succesful', 'suspended']))"
      ]
    },
    {
      "cell_type": "markdown",
      "source": [
        "3. Comparing the both 100 tree model with the 1000 tree model.  \n",
        "   Here we can say that the 100 tree is much better than the 1000 tree model because the 100 tree has the best accuracy when we compare the both. So 100 tree is better. "
      ],
      "metadata": {
        "id": "jlmLNbwlQdXr"
      }
    }
  ],
  "metadata": {
    "colab": {
      "name": "Rohit_IT533_WEEK7 .ipynb",
      "provenance": []
    },
    "kernelspec": {
      "display_name": "Python 3",
      "name": "python3"
    },
    "language_info": {
      "name": "python"
    }
  },
  "nbformat": 4,
  "nbformat_minor": 0
}