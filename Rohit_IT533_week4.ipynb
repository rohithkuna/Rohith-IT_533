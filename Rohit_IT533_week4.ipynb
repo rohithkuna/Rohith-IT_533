{
  "nbformat": 4,
  "nbformat_minor": 0,
  "metadata": {
    "colab": {
      "name": "Rohit IT533 week4.ipynb",
      "provenance": []
    },
    "kernelspec": {
      "name": "python3",
      "display_name": "Python 3"
    },
    "language_info": {
      "name": "python"
    }
  },
  "cells": [
    {
      "cell_type": "code",
      "execution_count": 3,
      "metadata": {
        "colab": {
          "base_uri": "https://localhost:8080/",
          "height": 496
        },
        "id": "lotPAp6XRy2q",
        "outputId": "6cd11bfd-3500-43c5-9ab9-32b7c1d10147"
      },
      "outputs": [
        {
          "output_type": "execute_result",
          "data": {
            "text/plain": [
              "           ID                                               name     category  \\\n",
              "0  1008941852                       The return of BABY UNIVERSE!    Immersive   \n",
              "1  1013503401                                             Potjie        Drama   \n",
              "2  1020446396  Stilt City- A Bungalow Artist Space in The Roc...   Public Art   \n",
              "3  1028008131       A 2D SideScroller RPG Made by YOU (Canceled)  Video Games   \n",
              "4  1049544313                                       Balteus Belt      Apparel   \n",
              "\n",
              "  main_category currency  deadline   goal          launched   pledged  \\\n",
              "0       Theater      USD  1/1/2015  15000   12/4/2014 21:37  11880.18   \n",
              "1  Film & Video      GBP  1/1/2015   4500   12/2/2014 18:10   4843.00   \n",
              "2           Art      USD  1/1/2015  60000  11/19/2014 23:14  18087.00   \n",
              "3         Games      USD  1/1/2015  20000   12/2/2014 22:02      9.00   \n",
              "4       Fashion      USD  1/1/2015   8000  11/18/2014 21:17   1563.00   \n",
              "\n",
              "        state  backers country  usd pledged  usd_pledged_real  usd_goal_real  \n",
              "0      failed       46      US     11880.18          11880.18       15000.00  \n",
              "1  successful       67      GB      7560.32           7477.46        6947.88  \n",
              "2    canceled      204      US     18087.00          18087.00       60000.00  \n",
              "3    canceled        2      US         9.00              9.00       20000.00  \n",
              "4      failed       16      US      1563.00           1563.00        8000.00  "
            ],
            "text/html": [
              "\n",
              "  <div id=\"df-9bd98944-f3d4-4d69-90a6-1499d75547e3\">\n",
              "    <div class=\"colab-df-container\">\n",
              "      <div>\n",
              "<style scoped>\n",
              "    .dataframe tbody tr th:only-of-type {\n",
              "        vertical-align: middle;\n",
              "    }\n",
              "\n",
              "    .dataframe tbody tr th {\n",
              "        vertical-align: top;\n",
              "    }\n",
              "\n",
              "    .dataframe thead th {\n",
              "        text-align: right;\n",
              "    }\n",
              "</style>\n",
              "<table border=\"1\" class=\"dataframe\">\n",
              "  <thead>\n",
              "    <tr style=\"text-align: right;\">\n",
              "      <th></th>\n",
              "      <th>ID</th>\n",
              "      <th>name</th>\n",
              "      <th>category</th>\n",
              "      <th>main_category</th>\n",
              "      <th>currency</th>\n",
              "      <th>deadline</th>\n",
              "      <th>goal</th>\n",
              "      <th>launched</th>\n",
              "      <th>pledged</th>\n",
              "      <th>state</th>\n",
              "      <th>backers</th>\n",
              "      <th>country</th>\n",
              "      <th>usd pledged</th>\n",
              "      <th>usd_pledged_real</th>\n",
              "      <th>usd_goal_real</th>\n",
              "    </tr>\n",
              "  </thead>\n",
              "  <tbody>\n",
              "    <tr>\n",
              "      <th>0</th>\n",
              "      <td>1008941852</td>\n",
              "      <td>The return of BABY UNIVERSE!</td>\n",
              "      <td>Immersive</td>\n",
              "      <td>Theater</td>\n",
              "      <td>USD</td>\n",
              "      <td>1/1/2015</td>\n",
              "      <td>15000</td>\n",
              "      <td>12/4/2014 21:37</td>\n",
              "      <td>11880.18</td>\n",
              "      <td>failed</td>\n",
              "      <td>46</td>\n",
              "      <td>US</td>\n",
              "      <td>11880.18</td>\n",
              "      <td>11880.18</td>\n",
              "      <td>15000.00</td>\n",
              "    </tr>\n",
              "    <tr>\n",
              "      <th>1</th>\n",
              "      <td>1013503401</td>\n",
              "      <td>Potjie</td>\n",
              "      <td>Drama</td>\n",
              "      <td>Film &amp; Video</td>\n",
              "      <td>GBP</td>\n",
              "      <td>1/1/2015</td>\n",
              "      <td>4500</td>\n",
              "      <td>12/2/2014 18:10</td>\n",
              "      <td>4843.00</td>\n",
              "      <td>successful</td>\n",
              "      <td>67</td>\n",
              "      <td>GB</td>\n",
              "      <td>7560.32</td>\n",
              "      <td>7477.46</td>\n",
              "      <td>6947.88</td>\n",
              "    </tr>\n",
              "    <tr>\n",
              "      <th>2</th>\n",
              "      <td>1020446396</td>\n",
              "      <td>Stilt City- A Bungalow Artist Space in The Roc...</td>\n",
              "      <td>Public Art</td>\n",
              "      <td>Art</td>\n",
              "      <td>USD</td>\n",
              "      <td>1/1/2015</td>\n",
              "      <td>60000</td>\n",
              "      <td>11/19/2014 23:14</td>\n",
              "      <td>18087.00</td>\n",
              "      <td>canceled</td>\n",
              "      <td>204</td>\n",
              "      <td>US</td>\n",
              "      <td>18087.00</td>\n",
              "      <td>18087.00</td>\n",
              "      <td>60000.00</td>\n",
              "    </tr>\n",
              "    <tr>\n",
              "      <th>3</th>\n",
              "      <td>1028008131</td>\n",
              "      <td>A 2D SideScroller RPG Made by YOU (Canceled)</td>\n",
              "      <td>Video Games</td>\n",
              "      <td>Games</td>\n",
              "      <td>USD</td>\n",
              "      <td>1/1/2015</td>\n",
              "      <td>20000</td>\n",
              "      <td>12/2/2014 22:02</td>\n",
              "      <td>9.00</td>\n",
              "      <td>canceled</td>\n",
              "      <td>2</td>\n",
              "      <td>US</td>\n",
              "      <td>9.00</td>\n",
              "      <td>9.00</td>\n",
              "      <td>20000.00</td>\n",
              "    </tr>\n",
              "    <tr>\n",
              "      <th>4</th>\n",
              "      <td>1049544313</td>\n",
              "      <td>Balteus Belt</td>\n",
              "      <td>Apparel</td>\n",
              "      <td>Fashion</td>\n",
              "      <td>USD</td>\n",
              "      <td>1/1/2015</td>\n",
              "      <td>8000</td>\n",
              "      <td>11/18/2014 21:17</td>\n",
              "      <td>1563.00</td>\n",
              "      <td>failed</td>\n",
              "      <td>16</td>\n",
              "      <td>US</td>\n",
              "      <td>1563.00</td>\n",
              "      <td>1563.00</td>\n",
              "      <td>8000.00</td>\n",
              "    </tr>\n",
              "  </tbody>\n",
              "</table>\n",
              "</div>\n",
              "      <button class=\"colab-df-convert\" onclick=\"convertToInteractive('df-9bd98944-f3d4-4d69-90a6-1499d75547e3')\"\n",
              "              title=\"Convert this dataframe to an interactive table.\"\n",
              "              style=\"display:none;\">\n",
              "        \n",
              "  <svg xmlns=\"http://www.w3.org/2000/svg\" height=\"24px\"viewBox=\"0 0 24 24\"\n",
              "       width=\"24px\">\n",
              "    <path d=\"M0 0h24v24H0V0z\" fill=\"none\"/>\n",
              "    <path d=\"M18.56 5.44l.94 2.06.94-2.06 2.06-.94-2.06-.94-.94-2.06-.94 2.06-2.06.94zm-11 1L8.5 8.5l.94-2.06 2.06-.94-2.06-.94L8.5 2.5l-.94 2.06-2.06.94zm10 10l.94 2.06.94-2.06 2.06-.94-2.06-.94-.94-2.06-.94 2.06-2.06.94z\"/><path d=\"M17.41 7.96l-1.37-1.37c-.4-.4-.92-.59-1.43-.59-.52 0-1.04.2-1.43.59L10.3 9.45l-7.72 7.72c-.78.78-.78 2.05 0 2.83L4 21.41c.39.39.9.59 1.41.59.51 0 1.02-.2 1.41-.59l7.78-7.78 2.81-2.81c.8-.78.8-2.07 0-2.86zM5.41 20L4 18.59l7.72-7.72 1.47 1.35L5.41 20z\"/>\n",
              "  </svg>\n",
              "      </button>\n",
              "      \n",
              "  <style>\n",
              "    .colab-df-container {\n",
              "      display:flex;\n",
              "      flex-wrap:wrap;\n",
              "      gap: 12px;\n",
              "    }\n",
              "\n",
              "    .colab-df-convert {\n",
              "      background-color: #E8F0FE;\n",
              "      border: none;\n",
              "      border-radius: 50%;\n",
              "      cursor: pointer;\n",
              "      display: none;\n",
              "      fill: #1967D2;\n",
              "      height: 32px;\n",
              "      padding: 0 0 0 0;\n",
              "      width: 32px;\n",
              "    }\n",
              "\n",
              "    .colab-df-convert:hover {\n",
              "      background-color: #E2EBFA;\n",
              "      box-shadow: 0px 1px 2px rgba(60, 64, 67, 0.3), 0px 1px 3px 1px rgba(60, 64, 67, 0.15);\n",
              "      fill: #174EA6;\n",
              "    }\n",
              "\n",
              "    [theme=dark] .colab-df-convert {\n",
              "      background-color: #3B4455;\n",
              "      fill: #D2E3FC;\n",
              "    }\n",
              "\n",
              "    [theme=dark] .colab-df-convert:hover {\n",
              "      background-color: #434B5C;\n",
              "      box-shadow: 0px 1px 3px 1px rgba(0, 0, 0, 0.15);\n",
              "      filter: drop-shadow(0px 1px 2px rgba(0, 0, 0, 0.3));\n",
              "      fill: #FFFFFF;\n",
              "    }\n",
              "  </style>\n",
              "\n",
              "      <script>\n",
              "        const buttonEl =\n",
              "          document.querySelector('#df-9bd98944-f3d4-4d69-90a6-1499d75547e3 button.colab-df-convert');\n",
              "        buttonEl.style.display =\n",
              "          google.colab.kernel.accessAllowed ? 'block' : 'none';\n",
              "\n",
              "        async function convertToInteractive(key) {\n",
              "          const element = document.querySelector('#df-9bd98944-f3d4-4d69-90a6-1499d75547e3');\n",
              "          const dataTable =\n",
              "            await google.colab.kernel.invokeFunction('convertToInteractive',\n",
              "                                                     [key], {});\n",
              "          if (!dataTable) return;\n",
              "\n",
              "          const docLinkHtml = 'Like what you see? Visit the ' +\n",
              "            '<a target=\"_blank\" href=https://colab.research.google.com/notebooks/data_table.ipynb>data table notebook</a>'\n",
              "            + ' to learn more about interactive tables.';\n",
              "          element.innerHTML = '';\n",
              "          dataTable['output_type'] = 'display_data';\n",
              "          await google.colab.output.renderOutput(dataTable, element);\n",
              "          const docLink = document.createElement('div');\n",
              "          docLink.innerHTML = docLinkHtml;\n",
              "          element.appendChild(docLink);\n",
              "        }\n",
              "      </script>\n",
              "    </div>\n",
              "  </div>\n",
              "  "
            ]
          },
          "metadata": {},
          "execution_count": 3
        }
      ],
      "source": [
        "import numpy as np\n",
        "import pandas as pd \n",
        "import matplotlib.pyplot as plt\n",
        "import math\n",
        "from math import acos, degrees\n",
        "from scipy import spatial\n",
        "from scipy.stats import chisquare\n",
        "from scipy.stats import chi2_contingency\n",
        "from sklearn.metrics.pairwise import cosine_similarity\n",
        "kickstarter = pd.read_csv(\"https://raw.githubusercontent.com/shstreuber/Data-Mining/master/data/kickstarter-projects-201518.csv\", encoding=\"ISO-8859-1\") # use your own file on your GitHub account\n",
        "kickstarter.dropna(inplace=True)\n",
        "kickstarter.head()"
      ]
    },
    {
      "cell_type": "code",
      "metadata": {
        "id": "Cn_z8WTwn0Zb",
        "colab": {
          "base_uri": "https://localhost:8080/"
        },
        "outputId": "198155ce-ac01-4d8b-b12a-5146e210603f"
      },
      "source": [
        "a = np.array(kickstarter.backers)\n",
        "b = np.array(kickstarter.usd_pledged_real)\n",
        "\n",
        "dot = np.dot(a, b)  \n",
        "norma = np.linalg.norm(a)  \n",
        "normb = np.linalg.norm(b)  \n",
        "cos1 = dot / (norma * normb)  \n",
        "\n",
        "print(cos1)"
      ],
      "execution_count": 4,
      "outputs": [
        {
          "output_type": "stream",
          "name": "stdout",
          "text": [
            "0.7379091296625949\n"
          ]
        }
      ]
    },
    {
      "cell_type": "code",
      "source": [
        "angle_in_radians1 = math.acos(cos1)\n",
        "degrees1 = math.degrees(angle_in_radians1)\n",
        "\n",
        "print(cos1, angle_in_radians1, degrees1)"
      ],
      "metadata": {
        "colab": {
          "base_uri": "https://localhost:8080/"
        },
        "id": "louQS3XwS0s2",
        "outputId": "301d2502-662b-4ae5-e58a-a40bfc640aeb"
      },
      "execution_count": 5,
      "outputs": [
        {
          "output_type": "stream",
          "name": "stdout",
          "text": [
            "0.7379091296625949 0.7408292825594396 42.44639123036061\n"
          ]
        }
      ]
    },
    {
      "cell_type": "code",
      "source": [
        "c = np.array(kickstarter.goal)\n",
        "d = np.array(kickstarter.usd_goal_real)\n",
        "\n",
        "dot = np.dot(c, d)  \n",
        "normc = np.linalg.norm(c)  \n",
        "normd = np.linalg.norm(d)  \n",
        "cos2 = dot / (normc * normd)  \n",
        "\n",
        "print(cos2)"
      ],
      "metadata": {
        "colab": {
          "base_uri": "https://localhost:8080/"
        },
        "id": "JyFGYZuBlmEH",
        "outputId": "52700ea1-6263-4dd0-e4f5-1a88ba81016f"
      },
      "execution_count": 6,
      "outputs": [
        {
          "output_type": "stream",
          "name": "stdout",
          "text": [
            "0.9369221742779534\n"
          ]
        }
      ]
    },
    {
      "cell_type": "code",
      "source": [
        "angle_in_radians1 = math.acos(cos2)\n",
        "degrees1 = math.degrees(angle_in_radians1)\n",
        "\n",
        "print(cos2, angle_in_radians1, degrees1)"
      ],
      "metadata": {
        "colab": {
          "base_uri": "https://localhost:8080/"
        },
        "id": "94Pz7Rkxl9QG",
        "outputId": "8efe6bfb-9696-4862-b863-781744ec608d"
      },
      "execution_count": 7,
      "outputs": [
        {
          "output_type": "stream",
          "name": "stdout",
          "text": [
            "0.9369221742779534 0.3570779938914628 20.459062006979007\n"
          ]
        }
      ]
    },
    {
      "cell_type": "code",
      "source": [
        "e = np.array(kickstarter.pledged)\n",
        "f = np.array(kickstarter.ID)\n",
        "\n",
        "dot = np.dot(e, f)  \n",
        "norme = np.linalg.norm(e)  \n",
        "normf = np.linalg.norm(f)  \n",
        "cos3 = dot / (norme * normf)  \n",
        "\n",
        "print(cos3)"
      ],
      "metadata": {
        "colab": {
          "base_uri": "https://localhost:8080/"
        },
        "id": "at8gsDQlmJfb",
        "outputId": "d7c7653d-50f8-4634-dc18-318f74474a33"
      },
      "execution_count": 8,
      "outputs": [
        {
          "output_type": "stream",
          "name": "stdout",
          "text": [
            "0.08953090723194665\n"
          ]
        }
      ]
    },
    {
      "cell_type": "code",
      "source": [
        "angle_in_radians1 = math.acos(cos3)\n",
        "degrees1 = math.degrees(angle_in_radians1)\n",
        "\n",
        "print(cos3, angle_in_radians1, degrees1)"
      ],
      "metadata": {
        "colab": {
          "base_uri": "https://localhost:8080/"
        },
        "id": "PJd49199mjdv",
        "outputId": "336a51a1-a745-4503-b81b-1eb5e3fc294d"
      },
      "execution_count": 9,
      "outputs": [
        {
          "output_type": "stream",
          "name": "stdout",
          "text": [
            "0.08953090723194665 1.4811453759881053 84.8633788894359\n"
          ]
        }
      ]
    },
    {
      "cell_type": "markdown",
      "source": [
        "1. Cosine similarity.     \n",
        "In the above section we have compared three different attributes with each other. As we can only take numeric attributes in this I've taken backers, usd_pledged_real, goal, usd_goal_real, pledged and ID. Based on the result from cosine similarity, the connection between backers and usd_pledged_real attributes is most similar.   \n",
        "\n"
      ],
      "metadata": {
        "id": "P3fjpG8nm6aw"
      }
    },
    {
      "cell_type": "code",
      "source": [
        "chi2, p, dof, expected = chi2_contingency((pd.crosstab(kickstarter.goal, kickstarter.backers).values))\n",
        "print (f'Chi-square Statistic: {chi2} ,p-value: {p}, Degrees of Freedom: {dof}')"
      ],
      "metadata": {
        "colab": {
          "base_uri": "https://localhost:8080/"
        },
        "id": "AS5-BuruRn7G",
        "outputId": "639ed5fe-5ea9-44da-c9a2-fcfaaa906910"
      },
      "execution_count": 10,
      "outputs": [
        {
          "output_type": "stream",
          "name": "stdout",
          "text": [
            "Chi-square Statistic: 14534954.776060563 ,p-value: 1.0, Degrees of Freedom: 16228800\n"
          ]
        }
      ]
    },
    {
      "cell_type": "markdown",
      "source": [
        "Here the p value of the attributes goal and backers is more than 0.05 so we can say that the values are independent."
      ],
      "metadata": {
        "id": "v_Xvusm6sp7Y"
      }
    },
    {
      "cell_type": "code",
      "source": [
        "chi2, p, dof, expected = chi2_contingency((pd.crosstab(kickstarter.currency, kickstarter.country).values))\n",
        "print (f'Chi-square Statistic: {chi2} ,p-value: {p}, Degrees of Freedom: {dof}')"
      ],
      "metadata": {
        "colab": {
          "base_uri": "https://localhost:8080/"
        },
        "id": "F4ACX861oCZs",
        "outputId": "ff014078-55eb-4c21-9e93-6a7bb6afbe10"
      },
      "execution_count": 12,
      "outputs": [
        {
          "output_type": "stream",
          "name": "stdout",
          "text": [
            "Chi-square Statistic: 2449785.0 ,p-value: 0.0, Degrees of Freedom: 273\n"
          ]
        }
      ]
    },
    {
      "cell_type": "markdown",
      "source": [
        "2. Chi square      \n",
        "In this chi square we take categorical attributes and calculate the chi square statistics P-value and also the Degrees of Freedom (dof). \n",
        "In the above section I've taken currency and country attributes to calculate the P value and its value is less than 0.05 so we can say that the both values are dependent."
      ],
      "metadata": {
        "id": "FgSJiVH7oQdb"
      }
    },
    {
      "cell_type": "markdown",
      "source": [
        "3. Covariance.   \n",
        "Covariance is nothing but relationship between two variables whenever one variable changes. If an increase in one variable causes a decrease in the other, that is a negative covariance, i.e. an inverse relationships, which is indicated by a negative number."
      ],
      "metadata": {
        "id": "o1OLqJgKug_h"
      }
    },
    {
      "cell_type": "code",
      "source": [
        "np.cov([kickstarter.goal],[kickstarter.backers])[0][1]"
      ],
      "metadata": {
        "colab": {
          "base_uri": "https://localhost:8080/"
        },
        "id": "yCVmTt0stSCO",
        "outputId": "4bc21dee-0692-4006-ea33-15e63779945f"
      },
      "execution_count": 14,
      "outputs": [
        {
          "output_type": "execute_result",
          "data": {
            "text/plain": [
              "206749.619993634"
            ]
          },
          "metadata": {},
          "execution_count": 14
        }
      ]
    },
    {
      "cell_type": "code",
      "source": [
        "np.cov([kickstarter.goal],[kickstarter.backers], ddof=0)[0][1]"
      ],
      "metadata": {
        "colab": {
          "base_uri": "https://localhost:8080/"
        },
        "id": "Uc2u3Ppctcqg",
        "outputId": "9e28756c-074c-429d-cc66-9b8c958cc880"
      },
      "execution_count": 15,
      "outputs": [
        {
          "output_type": "execute_result",
          "data": {
            "text/plain": [
              "206748.52285855485"
            ]
          },
          "metadata": {},
          "execution_count": 15
        }
      ]
    },
    {
      "cell_type": "code",
      "source": [
        "np.cov([kickstarter.goal],[kickstarter.backers], bias=True)[0][1]"
      ],
      "metadata": {
        "colab": {
          "base_uri": "https://localhost:8080/"
        },
        "id": "nrSqMQcAthlY",
        "outputId": "6d242d35-4a53-4ba0-ea2b-0fcfee0cb8dd"
      },
      "execution_count": 16,
      "outputs": [
        {
          "output_type": "execute_result",
          "data": {
            "text/plain": [
              "206748.52285855485"
            ]
          },
          "metadata": {},
          "execution_count": 16
        }
      ]
    },
    {
      "cell_type": "code",
      "source": [
        "np.cov([kickstarter.goal],[kickstarter.backers])[0][1]"
      ],
      "metadata": {
        "colab": {
          "base_uri": "https://localhost:8080/"
        },
        "id": "uBAQdz1GtoAC",
        "outputId": "00eccb4e-1be7-42e1-ab3a-4bb02ad24520"
      },
      "execution_count": 17,
      "outputs": [
        {
          "output_type": "execute_result",
          "data": {
            "text/plain": [
              "206749.619993634"
            ]
          },
          "metadata": {},
          "execution_count": 17
        }
      ]
    },
    {
      "cell_type": "markdown",
      "source": [
        ""
      ],
      "metadata": {
        "id": "YwwGThc8ugWg"
      }
    },
    {
      "cell_type": "markdown",
      "source": [
        "Correlation.   \n",
        "In this if the values are between -1 and 0 then we can say that the attributes are negatively correlated and if the value is betwwn 0 and 1 then we can say that the attributes are positively correlated."
      ],
      "metadata": {
        "id": "7i1RXrDrvU2G"
      }
    },
    {
      "cell_type": "code",
      "source": [
        "corr_edUSD = kickstarter['goal'].corr(kickstarter['backers'])\n",
        "corr_edUSD"
      ],
      "metadata": {
        "colab": {
          "base_uri": "https://localhost:8080/"
        },
        "id": "-6ckZaU-uac5",
        "outputId": "3aae0d33-145b-4338-c9b4-397920bc8d9d"
      },
      "execution_count": 18,
      "outputs": [
        {
          "output_type": "execute_result",
          "data": {
            "text/plain": [
              "0.0001340441698482524"
            ]
          },
          "metadata": {},
          "execution_count": 18
        }
      ]
    },
    {
      "cell_type": "code",
      "source": [
        "corr_edUSD = kickstarter['pledged'].corr(kickstarter['usd_pledged_real'])\n",
        "corr_edUSD"
      ],
      "metadata": {
        "colab": {
          "base_uri": "https://localhost:8080/"
        },
        "id": "WHzaGREUufM0",
        "outputId": "1a9f288c-e6a1-418a-f405-b0c3dbcb693f"
      },
      "execution_count": 19,
      "outputs": [
        {
          "output_type": "execute_result",
          "data": {
            "text/plain": [
              "0.9366432952402174"
            ]
          },
          "metadata": {},
          "execution_count": 19
        }
      ]
    },
    {
      "cell_type": "code",
      "source": [
        "plt.scatter(kickstarter['goal'], kickstarter['backers'], alpha=0.5)\n",
        "plt.title('Scatter plot goal vs. backers')\n",
        "plt.xlabel('goal')\n",
        "plt.ylabel('backers')\n",
        "plt.show()"
      ],
      "metadata": {
        "colab": {
          "base_uri": "https://localhost:8080/",
          "height": 295
        },
        "id": "_MvdVhzmwgM3",
        "outputId": "ed8d0ec0-f5e2-466e-8129-e35ebf90f0a9"
      },
      "execution_count": 20,
      "outputs": [
        {
          "output_type": "display_data",
          "data": {
            "text/plain": [
              "<Figure size 432x288 with 1 Axes>"
            ],
            "image/png": "[encoded data removed]"
          },
          "metadata": {
            "needs_background": "light"
          }
        }
      ]
    },
    {
      "cell_type": "code",
      "source": [
        "corr = kickstarter.corr()\n",
        "corr"
      ],
      "metadata": {
        "colab": {
          "base_uri": "https://localhost:8080/",
          "height": 269
        },
        "id": "RyoE6kJjwkud",
        "outputId": "324df0b2-9e3f-4a32-ab51-c4d88f1115f3"
      },
      "execution_count": 21,
      "outputs": [
        {
          "output_type": "execute_result",
          "data": {
            "text/plain": [
              "                        ID      goal   pledged   backers  usd pledged  \\\n",
              "ID                1.000000  0.000366  0.001940  0.002565     0.000422   \n",
              "goal              0.000366  1.000000  0.004796  0.000134     0.002243   \n",
              "pledged           0.001940  0.004796  1.000000  0.690055     0.804124   \n",
              "backers           0.002565  0.000134  0.690055  1.000000     0.637138   \n",
              "usd pledged       0.000422  0.002243  0.804124  0.637138     1.000000   \n",
              "usd_pledged_real  0.001220  0.001709  0.936643  0.735122     0.868505   \n",
              "usd_goal_real     0.000488  0.936802  0.001670  0.000535     0.002640   \n",
              "\n",
              "                  usd_pledged_real  usd_goal_real  \n",
              "ID                        0.001220       0.000488  \n",
              "goal                      0.001709       0.936802  \n",
              "pledged                   0.936643       0.001670  \n",
              "backers                   0.735122       0.000535  \n",
              "usd pledged               0.868505       0.002640  \n",
              "usd_pledged_real          1.000000       0.002051  \n",
              "usd_goal_real             0.002051       1.000000  "
            ],
            "text/html": [
              "\n",
              "  <div id=\"df-d51bb055-ac41-4d6b-b755-7dcb592f8d71\">\n",
              "    <div class=\"colab-df-container\">\n",
              "      <div>\n",
              "<style scoped>\n",
              "    .dataframe tbody tr th:only-of-type {\n",
              "        vertical-align: middle;\n",
              "    }\n",
              "\n",
              "    .dataframe tbody tr th {\n",
              "        vertical-align: top;\n",
              "    }\n",
              "\n",
              "    .dataframe thead th {\n",
              "        text-align: right;\n",
              "    }\n",
              "</style>\n",
              "<table border=\"1\" class=\"dataframe\">\n",
              "  <thead>\n",
              "    <tr style=\"text-align: right;\">\n",
              "      <th></th>\n",
              "      <th>ID</th>\n",
              "      <th>goal</th>\n",
              "      <th>pledged</th>\n",
              "      <th>backers</th>\n",
              "      <th>usd pledged</th>\n",
              "      <th>usd_pledged_real</th>\n",
              "      <th>usd_goal_real</th>\n",
              "    </tr>\n",
              "  </thead>\n",
              "  <tbody>\n",
              "    <tr>\n",
              "      <th>ID</th>\n",
              "      <td>1.000000</td>\n",
              "      <td>0.000366</td>\n",
              "      <td>0.001940</td>\n",
              "      <td>0.002565</td>\n",
              "      <td>0.000422</td>\n",
              "      <td>0.001220</td>\n",
              "      <td>0.000488</td>\n",
              "    </tr>\n",
              "    <tr>\n",
              "      <th>goal</th>\n",
              "      <td>0.000366</td>\n",
              "      <td>1.000000</td>\n",
              "      <td>0.004796</td>\n",
              "      <td>0.000134</td>\n",
              "      <td>0.002243</td>\n",
              "      <td>0.001709</td>\n",
              "      <td>0.936802</td>\n",
              "    </tr>\n",
              "    <tr>\n",
              "      <th>pledged</th>\n",
              "      <td>0.001940</td>\n",
              "      <td>0.004796</td>\n",
              "      <td>1.000000</td>\n",
              "      <td>0.690055</td>\n",
              "      <td>0.804124</td>\n",
              "      <td>0.936643</td>\n",
              "      <td>0.001670</td>\n",
              "    </tr>\n",
              "    <tr>\n",
              "      <th>backers</th>\n",
              "      <td>0.002565</td>\n",
              "      <td>0.000134</td>\n",
              "      <td>0.690055</td>\n",
              "      <td>1.000000</td>\n",
              "      <td>0.637138</td>\n",
              "      <td>0.735122</td>\n",
              "      <td>0.000535</td>\n",
              "    </tr>\n",
              "    <tr>\n",
              "      <th>usd pledged</th>\n",
              "      <td>0.000422</td>\n",
              "      <td>0.002243</td>\n",
              "      <td>0.804124</td>\n",
              "      <td>0.637138</td>\n",
              "      <td>1.000000</td>\n",
              "      <td>0.868505</td>\n",
              "      <td>0.002640</td>\n",
              "    </tr>\n",
              "    <tr>\n",
              "      <th>usd_pledged_real</th>\n",
              "      <td>0.001220</td>\n",
              "      <td>0.001709</td>\n",
              "      <td>0.936643</td>\n",
              "      <td>0.735122</td>\n",
              "      <td>0.868505</td>\n",
              "      <td>1.000000</td>\n",
              "      <td>0.002051</td>\n",
              "    </tr>\n",
              "    <tr>\n",
              "      <th>usd_goal_real</th>\n",
              "      <td>0.000488</td>\n",
              "      <td>0.936802</td>\n",
              "      <td>0.001670</td>\n",
              "      <td>0.000535</td>\n",
              "      <td>0.002640</td>\n",
              "      <td>0.002051</td>\n",
              "      <td>1.000000</td>\n",
              "    </tr>\n",
              "  </tbody>\n",
              "</table>\n",
              "</div>\n",
              "      <button class=\"colab-df-convert\" onclick=\"convertToInteractive('df-d51bb055-ac41-4d6b-b755-7dcb592f8d71')\"\n",
              "              title=\"Convert this dataframe to an interactive table.\"\n",
              "              style=\"display:none;\">\n",
              "        \n",
              "  <svg xmlns=\"http://www.w3.org/2000/svg\" height=\"24px\"viewBox=\"0 0 24 24\"\n",
              "       width=\"24px\">\n",
              "    <path d=\"M0 0h24v24H0V0z\" fill=\"none\"/>\n",
              "    <path d=\"M18.56 5.44l.94 2.06.94-2.06 2.06-.94-2.06-.94-.94-2.06-.94 2.06-2.06.94zm-11 1L8.5 8.5l.94-2.06 2.06-.94-2.06-.94L8.5 2.5l-.94 2.06-2.06.94zm10 10l.94 2.06.94-2.06 2.06-.94-2.06-.94-.94-2.06-.94 2.06-2.06.94z\"/><path d=\"M17.41 7.96l-1.37-1.37c-.4-.4-.92-.59-1.43-.59-.52 0-1.04.2-1.43.59L10.3 9.45l-7.72 7.72c-.78.78-.78 2.05 0 2.83L4 21.41c.39.39.9.59 1.41.59.51 0 1.02-.2 1.41-.59l7.78-7.78 2.81-2.81c.8-.78.8-2.07 0-2.86zM5.41 20L4 18.59l7.72-7.72 1.47 1.35L5.41 20z\"/>\n",
              "  </svg>\n",
              "      </button>\n",
              "      \n",
              "  <style>\n",
              "    .colab-df-container {\n",
              "      display:flex;\n",
              "      flex-wrap:wrap;\n",
              "      gap: 12px;\n",
              "    }\n",
              "\n",
              "    .colab-df-convert {\n",
              "      background-color: #E8F0FE;\n",
              "      border: none;\n",
              "      border-radius: 50%;\n",
              "      cursor: pointer;\n",
              "      display: none;\n",
              "      fill: #1967D2;\n",
              "      height: 32px;\n",
              "      padding: 0 0 0 0;\n",
              "      width: 32px;\n",
              "    }\n",
              "\n",
              "    .colab-df-convert:hover {\n",
              "      background-color: #E2EBFA;\n",
              "      box-shadow: 0px 1px 2px rgba(60, 64, 67, 0.3), 0px 1px 3px 1px rgba(60, 64, 67, 0.15);\n",
              "      fill: #174EA6;\n",
              "    }\n",
              "\n",
              "    [theme=dark] .colab-df-convert {\n",
              "      background-color: #3B4455;\n",
              "      fill: #D2E3FC;\n",
              "    }\n",
              "\n",
              "    [theme=dark] .colab-df-convert:hover {\n",
              "      background-color: #434B5C;\n",
              "      box-shadow: 0px 1px 3px 1px rgba(0, 0, 0, 0.15);\n",
              "      filter: drop-shadow(0px 1px 2px rgba(0, 0, 0, 0.3));\n",
              "      fill: #FFFFFF;\n",
              "    }\n",
              "  </style>\n",
              "\n",
              "      <script>\n",
              "        const buttonEl =\n",
              "          document.querySelector('#df-d51bb055-ac41-4d6b-b755-7dcb592f8d71 button.colab-df-convert');\n",
              "        buttonEl.style.display =\n",
              "          google.colab.kernel.accessAllowed ? 'block' : 'none';\n",
              "\n",
              "        async function convertToInteractive(key) {\n",
              "          const element = document.querySelector('#df-d51bb055-ac41-4d6b-b755-7dcb592f8d71');\n",
              "          const dataTable =\n",
              "            await google.colab.kernel.invokeFunction('convertToInteractive',\n",
              "                                                     [key], {});\n",
              "          if (!dataTable) return;\n",
              "\n",
              "          const docLinkHtml = 'Like what you see? Visit the ' +\n",
              "            '<a target=\"_blank\" href=https://colab.research.google.com/notebooks/data_table.ipynb>data table notebook</a>'\n",
              "            + ' to learn more about interactive tables.';\n",
              "          element.innerHTML = '';\n",
              "          dataTable['output_type'] = 'display_data';\n",
              "          await google.colab.output.renderOutput(dataTable, element);\n",
              "          const docLink = document.createElement('div');\n",
              "          docLink.innerHTML = docLinkHtml;\n",
              "          element.appendChild(docLink);\n",
              "        }\n",
              "      </script>\n",
              "    </div>\n",
              "  </div>\n",
              "  "
            ]
          },
          "metadata": {},
          "execution_count": 21
        }
      ]
    },
    {
      "cell_type": "code",
      "source": [
        "fig = plt.figure()\n",
        "ax = fig.add_subplot(111)\n",
        "cax = ax.matshow(corr,cmap='coolwarm', vmin=-1, vmax=1)\n",
        "fig.colorbar(cax)\n",
        "ticks = np.arange(0,len(corr.columns),1)\n",
        "ax.set_xticks(ticks)\n",
        "plt.xticks(rotation=90)\n",
        "ax.set_yticks(ticks)\n",
        "ax.set_xticklabels(corr.columns)\n",
        "ax.set_yticklabels(corr.columns)\n",
        "plt.show()"
      ],
      "metadata": {
        "colab": {
          "base_uri": "https://localhost:8080/",
          "height": 349
        },
        "id": "a3htCU7swpC7",
        "outputId": "ec52fa79-cfa3-4668-9442-24375f74b2ce"
      },
      "execution_count": 22,
      "outputs": [
        {
          "output_type": "display_data",
          "data": {
            "text/plain": [
              "<Figure size 432x288 with 2 Axes>"
            ],
            "image/png": "[encoded data removed]"
          },
          "metadata": {
            "needs_background": "light"
          }
        }
      ]
    },
    {
      "cell_type": "markdown",
      "source": [
        "From the above section we can say that goal, pledged and backers are the three attributes that are most highly correlated. "
      ],
      "metadata": {
        "id": "TZOO_PO3w-6-"
      }
    }
  ]
}