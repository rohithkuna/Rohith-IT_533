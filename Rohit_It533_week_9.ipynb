{
  "nbformat": 4,
  "nbformat_minor": 0,
  "metadata": {
    "colab": {
      "name": "Rohit It533 week 9.ipynb",
      "provenance": []
    },
    "kernelspec": {
      "name": "python3",
      "display_name": "Python 3"
    },
    "language_info": {
      "name": "python"
    }
  },
  "cells": [
    {
      "cell_type": "code",
      "execution_count": null,
      "metadata": {
        "colab": {
          "base_uri": "https://localhost:8080/",
          "height": 531
        },
        "id": "DZ70GDhHLOiW",
        "outputId": "ad78f831-7f1d-4e71-9b80-bcf145d6b04f"
      },
      "outputs": [
        {
          "output_type": "stream",
          "name": "stdout",
          "text": [
            "Current TensorFlow version is 2.8.2\n"
          ]
        },
        {
          "output_type": "execute_result",
          "data": {
            "text/plain": [
              "           ID                                               name  \\\n",
              "0  1000002330                    The Songs of Adelaide & Abullah   \n",
              "1  1000003930      Greeting From Earth: ZGAC Arts Capsule For ET   \n",
              "2  1000004038                                     Where is Hank?   \n",
              "3  1000007540  ToshiCapital Rekordz Needs Help to Complete Album   \n",
              "4  1000011046  Community Film Project: The Art of Neighborhoo...   \n",
              "\n",
              "         category main_category currency   deadline   goal         launched  \\\n",
              "0          Poetry    Publishing      GBP  10/9/2015   1000  8/11/2015 12:12   \n",
              "1  Narrative Film  Film & Video      USD  11/1/2017  30000    9/2/2017 4:43   \n",
              "2  Narrative Film  Film & Video      USD  2/26/2013  45000   1/12/2013 0:20   \n",
              "3           Music         Music      USD  4/16/2012   5000   3/17/2012 3:24   \n",
              "4    Film & Video  Film & Video      USD  8/29/2015  19500    7/4/2015 8:35   \n",
              "\n",
              "   pledged     state  backers country  usd pledged  usd_pledged_real  \\\n",
              "0      0.0    failed        0      GB          0.0               0.0   \n",
              "1   2421.0    failed       15      US        100.0            2421.0   \n",
              "2    220.0    failed        3      US        220.0             220.0   \n",
              "3      1.0    failed        1      US          1.0               1.0   \n",
              "4   1283.0  canceled       14      US       1283.0            1283.0   \n",
              "\n",
              "   usd_goal_real  \n",
              "0        1533.95  \n",
              "1       30000.00  \n",
              "2       45000.00  \n",
              "3        5000.00  \n",
              "4       19500.00  "
            ],
            "text/html": [
              "\n",
              "  <div id=\"df-aa652917-120b-44f1-908d-6c411375d92a\">\n",
              "    <div class=\"colab-df-container\">\n",
              "      <div>\n",
              "<style scoped>\n",
              "    .dataframe tbody tr th:only-of-type {\n",
              "        vertical-align: middle;\n",
              "    }\n",
              "\n",
              "    .dataframe tbody tr th {\n",
              "        vertical-align: top;\n",
              "    }\n",
              "\n",
              "    .dataframe thead th {\n",
              "        text-align: right;\n",
              "    }\n",
              "</style>\n",
              "<table border=\"1\" class=\"dataframe\">\n",
              "  <thead>\n",
              "    <tr style=\"text-align: right;\">\n",
              "      <th></th>\n",
              "      <th>ID</th>\n",
              "      <th>name</th>\n",
              "      <th>category</th>\n",
              "      <th>main_category</th>\n",
              "      <th>currency</th>\n",
              "      <th>deadline</th>\n",
              "      <th>goal</th>\n",
              "      <th>launched</th>\n",
              "      <th>pledged</th>\n",
              "      <th>state</th>\n",
              "      <th>backers</th>\n",
              "      <th>country</th>\n",
              "      <th>usd pledged</th>\n",
              "      <th>usd_pledged_real</th>\n",
              "      <th>usd_goal_real</th>\n",
              "    </tr>\n",
              "  </thead>\n",
              "  <tbody>\n",
              "    <tr>\n",
              "      <th>0</th>\n",
              "      <td>1000002330</td>\n",
              "      <td>The Songs of Adelaide &amp; Abullah</td>\n",
              "      <td>Poetry</td>\n",
              "      <td>Publishing</td>\n",
              "      <td>GBP</td>\n",
              "      <td>10/9/2015</td>\n",
              "      <td>1000</td>\n",
              "      <td>8/11/2015 12:12</td>\n",
              "      <td>0.0</td>\n",
              "      <td>failed</td>\n",
              "      <td>0</td>\n",
              "      <td>GB</td>\n",
              "      <td>0.0</td>\n",
              "      <td>0.0</td>\n",
              "      <td>1533.95</td>\n",
              "    </tr>\n",
              "    <tr>\n",
              "      <th>1</th>\n",
              "      <td>1000003930</td>\n",
              "      <td>Greeting From Earth: ZGAC Arts Capsule For ET</td>\n",
              "      <td>Narrative Film</td>\n",
              "      <td>Film &amp; Video</td>\n",
              "      <td>USD</td>\n",
              "      <td>11/1/2017</td>\n",
              "      <td>30000</td>\n",
              "      <td>9/2/2017 4:43</td>\n",
              "      <td>2421.0</td>\n",
              "      <td>failed</td>\n",
              "      <td>15</td>\n",
              "      <td>US</td>\n",
              "      <td>100.0</td>\n",
              "      <td>2421.0</td>\n",
              "      <td>30000.00</td>\n",
              "    </tr>\n",
              "    <tr>\n",
              "      <th>2</th>\n",
              "      <td>1000004038</td>\n",
              "      <td>Where is Hank?</td>\n",
              "      <td>Narrative Film</td>\n",
              "      <td>Film &amp; Video</td>\n",
              "      <td>USD</td>\n",
              "      <td>2/26/2013</td>\n",
              "      <td>45000</td>\n",
              "      <td>1/12/2013 0:20</td>\n",
              "      <td>220.0</td>\n",
              "      <td>failed</td>\n",
              "      <td>3</td>\n",
              "      <td>US</td>\n",
              "      <td>220.0</td>\n",
              "      <td>220.0</td>\n",
              "      <td>45000.00</td>\n",
              "    </tr>\n",
              "    <tr>\n",
              "      <th>3</th>\n",
              "      <td>1000007540</td>\n",
              "      <td>ToshiCapital Rekordz Needs Help to Complete Album</td>\n",
              "      <td>Music</td>\n",
              "      <td>Music</td>\n",
              "      <td>USD</td>\n",
              "      <td>4/16/2012</td>\n",
              "      <td>5000</td>\n",
              "      <td>3/17/2012 3:24</td>\n",
              "      <td>1.0</td>\n",
              "      <td>failed</td>\n",
              "      <td>1</td>\n",
              "      <td>US</td>\n",
              "      <td>1.0</td>\n",
              "      <td>1.0</td>\n",
              "      <td>5000.00</td>\n",
              "    </tr>\n",
              "    <tr>\n",
              "      <th>4</th>\n",
              "      <td>1000011046</td>\n",
              "      <td>Community Film Project: The Art of Neighborhoo...</td>\n",
              "      <td>Film &amp; Video</td>\n",
              "      <td>Film &amp; Video</td>\n",
              "      <td>USD</td>\n",
              "      <td>8/29/2015</td>\n",
              "      <td>19500</td>\n",
              "      <td>7/4/2015 8:35</td>\n",
              "      <td>1283.0</td>\n",
              "      <td>canceled</td>\n",
              "      <td>14</td>\n",
              "      <td>US</td>\n",
              "      <td>1283.0</td>\n",
              "      <td>1283.0</td>\n",
              "      <td>19500.00</td>\n",
              "    </tr>\n",
              "  </tbody>\n",
              "</table>\n",
              "</div>\n",
              "      <button class=\"colab-df-convert\" onclick=\"convertToInteractive('df-aa652917-120b-44f1-908d-6c411375d92a')\"\n",
              "              title=\"Convert this dataframe to an interactive table.\"\n",
              "              style=\"display:none;\">\n",
              "        \n",
              "  <svg xmlns=\"http://www.w3.org/2000/svg\" height=\"24px\"viewBox=\"0 0 24 24\"\n",
              "       width=\"24px\">\n",
              "    <path d=\"M0 0h24v24H0V0z\" fill=\"none\"/>\n",
              "    <path d=\"M18.56 5.44l.94 2.06.94-2.06 2.06-.94-2.06-.94-.94-2.06-.94 2.06-2.06.94zm-11 1L8.5 8.5l.94-2.06 2.06-.94-2.06-.94L8.5 2.5l-.94 2.06-2.06.94zm10 10l.94 2.06.94-2.06 2.06-.94-2.06-.94-.94-2.06-.94 2.06-2.06.94z\"/><path d=\"M17.41 7.96l-1.37-1.37c-.4-.4-.92-.59-1.43-.59-.52 0-1.04.2-1.43.59L10.3 9.45l-7.72 7.72c-.78.78-.78 2.05 0 2.83L4 21.41c.39.39.9.59 1.41.59.51 0 1.02-.2 1.41-.59l7.78-7.78 2.81-2.81c.8-.78.8-2.07 0-2.86zM5.41 20L4 18.59l7.72-7.72 1.47 1.35L5.41 20z\"/>\n",
              "  </svg>\n",
              "      </button>\n",
              "      \n",
              "  <style>\n",
              "    .colab-df-container {\n",
              "      display:flex;\n",
              "      flex-wrap:wrap;\n",
              "      gap: 12px;\n",
              "    }\n",
              "\n",
              "    .colab-df-convert {\n",
              "      background-color: #E8F0FE;\n",
              "      border: none;\n",
              "      border-radius: 50%;\n",
              "      cursor: pointer;\n",
              "      display: none;\n",
              "      fill: #1967D2;\n",
              "      height: 32px;\n",
              "      padding: 0 0 0 0;\n",
              "      width: 32px;\n",
              "    }\n",
              "\n",
              "    .colab-df-convert:hover {\n",
              "      background-color: #E2EBFA;\n",
              "      box-shadow: 0px 1px 2px rgba(60, 64, 67, 0.3), 0px 1px 3px 1px rgba(60, 64, 67, 0.15);\n",
              "      fill: #174EA6;\n",
              "    }\n",
              "\n",
              "    [theme=dark] .colab-df-convert {\n",
              "      background-color: #3B4455;\n",
              "      fill: #D2E3FC;\n",
              "    }\n",
              "\n",
              "    [theme=dark] .colab-df-convert:hover {\n",
              "      background-color: #434B5C;\n",
              "      box-shadow: 0px 1px 3px 1px rgba(0, 0, 0, 0.15);\n",
              "      filter: drop-shadow(0px 1px 2px rgba(0, 0, 0, 0.3));\n",
              "      fill: #FFFFFF;\n",
              "    }\n",
              "  </style>\n",
              "\n",
              "      <script>\n",
              "        const buttonEl =\n",
              "          document.querySelector('#df-aa652917-120b-44f1-908d-6c411375d92a button.colab-df-convert');\n",
              "        buttonEl.style.display =\n",
              "          google.colab.kernel.accessAllowed ? 'block' : 'none';\n",
              "\n",
              "        async function convertToInteractive(key) {\n",
              "          const element = document.querySelector('#df-aa652917-120b-44f1-908d-6c411375d92a');\n",
              "          const dataTable =\n",
              "            await google.colab.kernel.invokeFunction('convertToInteractive',\n",
              "                                                     [key], {});\n",
              "          if (!dataTable) return;\n",
              "\n",
              "          const docLinkHtml = 'Like what you see? Visit the ' +\n",
              "            '<a target=\"_blank\" href=https://colab.research.google.com/notebooks/data_table.ipynb>data table notebook</a>'\n",
              "            + ' to learn more about interactive tables.';\n",
              "          element.innerHTML = '';\n",
              "          dataTable['output_type'] = 'display_data';\n",
              "          await google.colab.output.renderOutput(dataTable, element);\n",
              "          const docLink = document.createElement('div');\n",
              "          docLink.innerHTML = docLinkHtml;\n",
              "          element.appendChild(docLink);\n",
              "        }\n",
              "      </script>\n",
              "    </div>\n",
              "  </div>\n",
              "  "
            ]
          },
          "metadata": {},
          "execution_count": 5
        }
      ],
      "source": [
        "import tensorflow as tf \n",
        "\n",
        "from tensorflow import keras \n",
        "from tensorflow.keras import layers \n",
        "from tensorflow.keras.layers.experimental import preprocessing\n",
        "\n",
        "print(\"Current TensorFlow version is\", tf.__version__)\n",
        "\n",
        "import numpy as np\n",
        "import pandas as pd \n",
        "import matplotlib.pyplot as plt\n",
        "import seaborn as sns \n",
        "from sklearn.model_selection import train_test_split\n",
        "from sklearn.metrics import accuracy_score\n",
        "import warnings\n",
        "warnings.filterwarnings(\"ignore\")\n",
        "np.random.seed(42) \n",
        "\n",
        "# Read in the data as adult dataframe. \n",
        "adult = pd.read_csv(\"https://raw.githubusercontent.com/rohithkuna/Rohith-IT_533/main/rohith%20dm%20dataset.csv\")\n",
        "adult.head() #USE YOUR OWN ADULT DATA FILE ON GITHUB"
      ]
    },
    {
      "cell_type": "code",
      "source": [
        "adult_dl = pd.DataFrame(adult, columns = ['goal', 'pledged', 'backers','usd_pledged_real','state'])\n",
        "adult_dl.head()"
      ],
      "metadata": {
        "colab": {
          "base_uri": "https://localhost:8080/",
          "height": 206
        },
        "id": "nJN20ntmLnWs",
        "outputId": "2f266f71-8669-46f6-9878-95acd56adc73"
      },
      "execution_count": null,
      "outputs": [
        {
          "output_type": "execute_result",
          "data": {
            "text/plain": [
              "    goal  pledged  backers  usd_pledged_real     state\n",
              "0   1000      0.0        0               0.0    failed\n",
              "1  30000   2421.0       15            2421.0    failed\n",
              "2  45000    220.0        3             220.0    failed\n",
              "3   5000      1.0        1               1.0    failed\n",
              "4  19500   1283.0       14            1283.0  canceled"
            ],
            "text/html": [
              "\n",
              "  <div id=\"df-6938d858-79b1-4382-968e-e4fb0249154e\">\n",
              "    <div class=\"colab-df-container\">\n",
              "      <div>\n",
              "<style scoped>\n",
              "    .dataframe tbody tr th:only-of-type {\n",
              "        vertical-align: middle;\n",
              "    }\n",
              "\n",
              "    .dataframe tbody tr th {\n",
              "        vertical-align: top;\n",
              "    }\n",
              "\n",
              "    .dataframe thead th {\n",
              "        text-align: right;\n",
              "    }\n",
              "</style>\n",
              "<table border=\"1\" class=\"dataframe\">\n",
              "  <thead>\n",
              "    <tr style=\"text-align: right;\">\n",
              "      <th></th>\n",
              "      <th>goal</th>\n",
              "      <th>pledged</th>\n",
              "      <th>backers</th>\n",
              "      <th>usd_pledged_real</th>\n",
              "      <th>state</th>\n",
              "    </tr>\n",
              "  </thead>\n",
              "  <tbody>\n",
              "    <tr>\n",
              "      <th>0</th>\n",
              "      <td>1000</td>\n",
              "      <td>0.0</td>\n",
              "      <td>0</td>\n",
              "      <td>0.0</td>\n",
              "      <td>failed</td>\n",
              "    </tr>\n",
              "    <tr>\n",
              "      <th>1</th>\n",
              "      <td>30000</td>\n",
              "      <td>2421.0</td>\n",
              "      <td>15</td>\n",
              "      <td>2421.0</td>\n",
              "      <td>failed</td>\n",
              "    </tr>\n",
              "    <tr>\n",
              "      <th>2</th>\n",
              "      <td>45000</td>\n",
              "      <td>220.0</td>\n",
              "      <td>3</td>\n",
              "      <td>220.0</td>\n",
              "      <td>failed</td>\n",
              "    </tr>\n",
              "    <tr>\n",
              "      <th>3</th>\n",
              "      <td>5000</td>\n",
              "      <td>1.0</td>\n",
              "      <td>1</td>\n",
              "      <td>1.0</td>\n",
              "      <td>failed</td>\n",
              "    </tr>\n",
              "    <tr>\n",
              "      <th>4</th>\n",
              "      <td>19500</td>\n",
              "      <td>1283.0</td>\n",
              "      <td>14</td>\n",
              "      <td>1283.0</td>\n",
              "      <td>canceled</td>\n",
              "    </tr>\n",
              "  </tbody>\n",
              "</table>\n",
              "</div>\n",
              "      <button class=\"colab-df-convert\" onclick=\"convertToInteractive('df-6938d858-79b1-4382-968e-e4fb0249154e')\"\n",
              "              title=\"Convert this dataframe to an interactive table.\"\n",
              "              style=\"display:none;\">\n",
              "        \n",
              "  <svg xmlns=\"http://www.w3.org/2000/svg\" height=\"24px\"viewBox=\"0 0 24 24\"\n",
              "       width=\"24px\">\n",
              "    <path d=\"M0 0h24v24H0V0z\" fill=\"none\"/>\n",
              "    <path d=\"M18.56 5.44l.94 2.06.94-2.06 2.06-.94-2.06-.94-.94-2.06-.94 2.06-2.06.94zm-11 1L8.5 8.5l.94-2.06 2.06-.94-2.06-.94L8.5 2.5l-.94 2.06-2.06.94zm10 10l.94 2.06.94-2.06 2.06-.94-2.06-.94-.94-2.06-.94 2.06-2.06.94z\"/><path d=\"M17.41 7.96l-1.37-1.37c-.4-.4-.92-.59-1.43-.59-.52 0-1.04.2-1.43.59L10.3 9.45l-7.72 7.72c-.78.78-.78 2.05 0 2.83L4 21.41c.39.39.9.59 1.41.59.51 0 1.02-.2 1.41-.59l7.78-7.78 2.81-2.81c.8-.78.8-2.07 0-2.86zM5.41 20L4 18.59l7.72-7.72 1.47 1.35L5.41 20z\"/>\n",
              "  </svg>\n",
              "      </button>\n",
              "      \n",
              "  <style>\n",
              "    .colab-df-container {\n",
              "      display:flex;\n",
              "      flex-wrap:wrap;\n",
              "      gap: 12px;\n",
              "    }\n",
              "\n",
              "    .colab-df-convert {\n",
              "      background-color: #E8F0FE;\n",
              "      border: none;\n",
              "      border-radius: 50%;\n",
              "      cursor: pointer;\n",
              "      display: none;\n",
              "      fill: #1967D2;\n",
              "      height: 32px;\n",
              "      padding: 0 0 0 0;\n",
              "      width: 32px;\n",
              "    }\n",
              "\n",
              "    .colab-df-convert:hover {\n",
              "      background-color: #E2EBFA;\n",
              "      box-shadow: 0px 1px 2px rgba(60, 64, 67, 0.3), 0px 1px 3px 1px rgba(60, 64, 67, 0.15);\n",
              "      fill: #174EA6;\n",
              "    }\n",
              "\n",
              "    [theme=dark] .colab-df-convert {\n",
              "      background-color: #3B4455;\n",
              "      fill: #D2E3FC;\n",
              "    }\n",
              "\n",
              "    [theme=dark] .colab-df-convert:hover {\n",
              "      background-color: #434B5C;\n",
              "      box-shadow: 0px 1px 3px 1px rgba(0, 0, 0, 0.15);\n",
              "      filter: drop-shadow(0px 1px 2px rgba(0, 0, 0, 0.3));\n",
              "      fill: #FFFFFF;\n",
              "    }\n",
              "  </style>\n",
              "\n",
              "      <script>\n",
              "        const buttonEl =\n",
              "          document.querySelector('#df-6938d858-79b1-4382-968e-e4fb0249154e button.colab-df-convert');\n",
              "        buttonEl.style.display =\n",
              "          google.colab.kernel.accessAllowed ? 'block' : 'none';\n",
              "\n",
              "        async function convertToInteractive(key) {\n",
              "          const element = document.querySelector('#df-6938d858-79b1-4382-968e-e4fb0249154e');\n",
              "          const dataTable =\n",
              "            await google.colab.kernel.invokeFunction('convertToInteractive',\n",
              "                                                     [key], {});\n",
              "          if (!dataTable) return;\n",
              "\n",
              "          const docLinkHtml = 'Like what you see? Visit the ' +\n",
              "            '<a target=\"_blank\" href=https://colab.research.google.com/notebooks/data_table.ipynb>data table notebook</a>'\n",
              "            + ' to learn more about interactive tables.';\n",
              "          element.innerHTML = '';\n",
              "          dataTable['output_type'] = 'display_data';\n",
              "          await google.colab.output.renderOutput(dataTable, element);\n",
              "          const docLink = document.createElement('div');\n",
              "          docLink.innerHTML = docLinkHtml;\n",
              "          element.appendChild(docLink);\n",
              "        }\n",
              "      </script>\n",
              "    </div>\n",
              "  </div>\n",
              "  "
            ]
          },
          "metadata": {},
          "execution_count": 7
        }
      ]
    },
    {
      "cell_type": "code",
      "source": [
        "adult_dl.state.unique()"
      ],
      "metadata": {
        "colab": {
          "base_uri": "https://localhost:8080/"
        },
        "id": "V4JWxF5nMCx7",
        "outputId": "deb0d407-3f98-42e3-80e6-ba2fd5ea6674"
      },
      "execution_count": null,
      "outputs": [
        {
          "output_type": "execute_result",
          "data": {
            "text/plain": [
              "array(['failed', 'canceled', 'successful', 'live'], dtype=object)"
            ]
          },
          "metadata": {},
          "execution_count": 8
        }
      ]
    },
    {
      "cell_type": "code",
      "source": [
        "adult_dl = pd.get_dummies(adult_dl, columns=['state'], prefix='', prefix_sep='')\n",
        "adult_dl.head()"
      ],
      "metadata": {
        "colab": {
          "base_uri": "https://localhost:8080/",
          "height": 206
        },
        "id": "tklnaF0oMFfY",
        "outputId": "1a07d8e0-b78c-46da-88c1-de9c2c2c7685"
      },
      "execution_count": null,
      "outputs": [
        {
          "output_type": "execute_result",
          "data": {
            "text/plain": [
              "    goal  pledged  backers  usd_pledged_real  canceled  failed  live  \\\n",
              "0   1000      0.0        0               0.0         0       1     0   \n",
              "1  30000   2421.0       15            2421.0         0       1     0   \n",
              "2  45000    220.0        3             220.0         0       1     0   \n",
              "3   5000      1.0        1               1.0         0       1     0   \n",
              "4  19500   1283.0       14            1283.0         1       0     0   \n",
              "\n",
              "   successful  \n",
              "0           0  \n",
              "1           0  \n",
              "2           0  \n",
              "3           0  \n",
              "4           0  "
            ],
            "text/html": [
              "\n",
              "  <div id=\"df-f4bea59d-62f8-40da-a63f-0e284a4f2dfa\">\n",
              "    <div class=\"colab-df-container\">\n",
              "      <div>\n",
              "<style scoped>\n",
              "    .dataframe tbody tr th:only-of-type {\n",
              "        vertical-align: middle;\n",
              "    }\n",
              "\n",
              "    .dataframe tbody tr th {\n",
              "        vertical-align: top;\n",
              "    }\n",
              "\n",
              "    .dataframe thead th {\n",
              "        text-align: right;\n",
              "    }\n",
              "</style>\n",
              "<table border=\"1\" class=\"dataframe\">\n",
              "  <thead>\n",
              "    <tr style=\"text-align: right;\">\n",
              "      <th></th>\n",
              "      <th>goal</th>\n",
              "      <th>pledged</th>\n",
              "      <th>backers</th>\n",
              "      <th>usd_pledged_real</th>\n",
              "      <th>canceled</th>\n",
              "      <th>failed</th>\n",
              "      <th>live</th>\n",
              "      <th>successful</th>\n",
              "    </tr>\n",
              "  </thead>\n",
              "  <tbody>\n",
              "    <tr>\n",
              "      <th>0</th>\n",
              "      <td>1000</td>\n",
              "      <td>0.0</td>\n",
              "      <td>0</td>\n",
              "      <td>0.0</td>\n",
              "      <td>0</td>\n",
              "      <td>1</td>\n",
              "      <td>0</td>\n",
              "      <td>0</td>\n",
              "    </tr>\n",
              "    <tr>\n",
              "      <th>1</th>\n",
              "      <td>30000</td>\n",
              "      <td>2421.0</td>\n",
              "      <td>15</td>\n",
              "      <td>2421.0</td>\n",
              "      <td>0</td>\n",
              "      <td>1</td>\n",
              "      <td>0</td>\n",
              "      <td>0</td>\n",
              "    </tr>\n",
              "    <tr>\n",
              "      <th>2</th>\n",
              "      <td>45000</td>\n",
              "      <td>220.0</td>\n",
              "      <td>3</td>\n",
              "      <td>220.0</td>\n",
              "      <td>0</td>\n",
              "      <td>1</td>\n",
              "      <td>0</td>\n",
              "      <td>0</td>\n",
              "    </tr>\n",
              "    <tr>\n",
              "      <th>3</th>\n",
              "      <td>5000</td>\n",
              "      <td>1.0</td>\n",
              "      <td>1</td>\n",
              "      <td>1.0</td>\n",
              "      <td>0</td>\n",
              "      <td>1</td>\n",
              "      <td>0</td>\n",
              "      <td>0</td>\n",
              "    </tr>\n",
              "    <tr>\n",
              "      <th>4</th>\n",
              "      <td>19500</td>\n",
              "      <td>1283.0</td>\n",
              "      <td>14</td>\n",
              "      <td>1283.0</td>\n",
              "      <td>1</td>\n",
              "      <td>0</td>\n",
              "      <td>0</td>\n",
              "      <td>0</td>\n",
              "    </tr>\n",
              "  </tbody>\n",
              "</table>\n",
              "</div>\n",
              "      <button class=\"colab-df-convert\" onclick=\"convertToInteractive('df-f4bea59d-62f8-40da-a63f-0e284a4f2dfa')\"\n",
              "              title=\"Convert this dataframe to an interactive table.\"\n",
              "              style=\"display:none;\">\n",
              "        \n",
              "  <svg xmlns=\"http://www.w3.org/2000/svg\" height=\"24px\"viewBox=\"0 0 24 24\"\n",
              "       width=\"24px\">\n",
              "    <path d=\"M0 0h24v24H0V0z\" fill=\"none\"/>\n",
              "    <path d=\"M18.56 5.44l.94 2.06.94-2.06 2.06-.94-2.06-.94-.94-2.06-.94 2.06-2.06.94zm-11 1L8.5 8.5l.94-2.06 2.06-.94-2.06-.94L8.5 2.5l-.94 2.06-2.06.94zm10 10l.94 2.06.94-2.06 2.06-.94-2.06-.94-.94-2.06-.94 2.06-2.06.94z\"/><path d=\"M17.41 7.96l-1.37-1.37c-.4-.4-.92-.59-1.43-.59-.52 0-1.04.2-1.43.59L10.3 9.45l-7.72 7.72c-.78.78-.78 2.05 0 2.83L4 21.41c.39.39.9.59 1.41.59.51 0 1.02-.2 1.41-.59l7.78-7.78 2.81-2.81c.8-.78.8-2.07 0-2.86zM5.41 20L4 18.59l7.72-7.72 1.47 1.35L5.41 20z\"/>\n",
              "  </svg>\n",
              "      </button>\n",
              "      \n",
              "  <style>\n",
              "    .colab-df-container {\n",
              "      display:flex;\n",
              "      flex-wrap:wrap;\n",
              "      gap: 12px;\n",
              "    }\n",
              "\n",
              "    .colab-df-convert {\n",
              "      background-color: #E8F0FE;\n",
              "      border: none;\n",
              "      border-radius: 50%;\n",
              "      cursor: pointer;\n",
              "      display: none;\n",
              "      fill: #1967D2;\n",
              "      height: 32px;\n",
              "      padding: 0 0 0 0;\n",
              "      width: 32px;\n",
              "    }\n",
              "\n",
              "    .colab-df-convert:hover {\n",
              "      background-color: #E2EBFA;\n",
              "      box-shadow: 0px 1px 2px rgba(60, 64, 67, 0.3), 0px 1px 3px 1px rgba(60, 64, 67, 0.15);\n",
              "      fill: #174EA6;\n",
              "    }\n",
              "\n",
              "    [theme=dark] .colab-df-convert {\n",
              "      background-color: #3B4455;\n",
              "      fill: #D2E3FC;\n",
              "    }\n",
              "\n",
              "    [theme=dark] .colab-df-convert:hover {\n",
              "      background-color: #434B5C;\n",
              "      box-shadow: 0px 1px 3px 1px rgba(0, 0, 0, 0.15);\n",
              "      filter: drop-shadow(0px 1px 2px rgba(0, 0, 0, 0.3));\n",
              "      fill: #FFFFFF;\n",
              "    }\n",
              "  </style>\n",
              "\n",
              "      <script>\n",
              "        const buttonEl =\n",
              "          document.querySelector('#df-f4bea59d-62f8-40da-a63f-0e284a4f2dfa button.colab-df-convert');\n",
              "        buttonEl.style.display =\n",
              "          google.colab.kernel.accessAllowed ? 'block' : 'none';\n",
              "\n",
              "        async function convertToInteractive(key) {\n",
              "          const element = document.querySelector('#df-f4bea59d-62f8-40da-a63f-0e284a4f2dfa');\n",
              "          const dataTable =\n",
              "            await google.colab.kernel.invokeFunction('convertToInteractive',\n",
              "                                                     [key], {});\n",
              "          if (!dataTable) return;\n",
              "\n",
              "          const docLinkHtml = 'Like what you see? Visit the ' +\n",
              "            '<a target=\"_blank\" href=https://colab.research.google.com/notebooks/data_table.ipynb>data table notebook</a>'\n",
              "            + ' to learn more about interactive tables.';\n",
              "          element.innerHTML = '';\n",
              "          dataTable['output_type'] = 'display_data';\n",
              "          await google.colab.output.renderOutput(dataTable, element);\n",
              "          const docLink = document.createElement('div');\n",
              "          docLink.innerHTML = docLinkHtml;\n",
              "          element.appendChild(docLink);\n",
              "        }\n",
              "      </script>\n",
              "    </div>\n",
              "  </div>\n",
              "  "
            ]
          },
          "metadata": {},
          "execution_count": 9
        }
      ]
    },
    {
      "cell_type": "code",
      "source": [
        "train_dataset = adult_dl.sample(frac=0.8, random_state=0)"
      ],
      "metadata": {
        "id": "v1AhLYvGM8Rh"
      },
      "execution_count": null,
      "outputs": []
    },
    {
      "cell_type": "code",
      "source": [
        "train_dataset = adult_dl.sample(frac=0.8, random_state=0)\n",
        "test_dataset = adult_dl.drop(train_dataset.index)"
      ],
      "metadata": {
        "id": "2wdLLkOENOOw"
      },
      "execution_count": null,
      "outputs": []
    },
    {
      "cell_type": "code",
      "source": [
        "train_features = train_dataset.copy()\n",
        "test_features = test_dataset.copy()\n",
        "\n",
        "train_labels = train_features.pop('pledged')\n",
        "test_labels = test_features.pop('pledged')"
      ],
      "metadata": {
        "id": "sTso5pndNPbl"
      },
      "execution_count": null,
      "outputs": []
    },
    {
      "cell_type": "code",
      "source": [
        "normalizer = preprocessing.Normalization(axis=-1)"
      ],
      "metadata": {
        "id": "DyY9xAM_NXfy"
      },
      "execution_count": null,
      "outputs": []
    },
    {
      "cell_type": "code",
      "source": [
        "normalizer.adapt(np.array(train_features))"
      ],
      "metadata": {
        "id": "3VcCHou4NaUe"
      },
      "execution_count": null,
      "outputs": []
    },
    {
      "cell_type": "code",
      "source": [
        "print(normalizer.mean.numpy())"
      ],
      "metadata": {
        "colab": {
          "base_uri": "https://localhost:8080/"
        },
        "id": "Wsl22Xp_NbPY",
        "outputId": "49d2933f-b476-4746-8d7f-9cf4311826bd"
      },
      "execution_count": null,
      "outputs": [
        {
          "output_type": "stream",
          "name": "stdout",
          "text": [
            "[[1.8742402e+04 1.1510924e+02 8.5981826e+03 5.8823530e-02 5.1260507e-01\n",
            "  8.4033608e-03 4.2016804e-01]]\n"
          ]
        }
      ]
    },
    {
      "cell_type": "code",
      "source": [
        "first = np.array(train_features[:1])\n",
        "\n",
        "with np.printoptions(precision=2, suppress=True):\n",
        "  print('Original data:', first)\n",
        "  print()\n",
        "  print('Normalized data:', normalizer(first).numpy())"
      ],
      "metadata": {
        "colab": {
          "base_uri": "https://localhost:8080/"
        },
        "id": "XvKTyrGRNdos",
        "outputId": "b778d6e0-74f9-48a6-c156-54a228b9ea1f"
      },
      "execution_count": null,
      "outputs": [
        {
          "output_type": "stream",
          "name": "stdout",
          "text": [
            "Original data: [[4000.     12.    322.02    0.      1.      0.      0.  ]]\n",
            "\n",
            "Normalized data: [[-0.36 -0.33 -0.39 -0.25  0.98 -0.09 -0.85]]\n"
          ]
        }
      ]
    },
    {
      "cell_type": "code",
      "source": [
        "goal_new = np.array(train_features['goal'])\n",
        "\n",
        "goal_normalizer = preprocessing.Normalization(input_shape=[1,], axis=None)\n",
        "goal_normalizer.adapt(goal_new)"
      ],
      "metadata": {
        "id": "dScu_wNiNhRQ"
      },
      "execution_count": null,
      "outputs": []
    },
    {
      "cell_type": "code",
      "source": [
        "goal_model = tf.keras.Sequential([\n",
        "    goal_normalizer,\n",
        "    layers.Dense(units=1)\n",
        "])\n",
        "\n",
        "goal_model.summary()"
      ],
      "metadata": {
        "colab": {
          "base_uri": "https://localhost:8080/"
        },
        "id": "1DPJW3m7Nv1j",
        "outputId": "f45f3c49-5f02-4c14-fac1-cd033bb772e9"
      },
      "execution_count": null,
      "outputs": [
        {
          "output_type": "stream",
          "name": "stdout",
          "text": [
            "Model: \"sequential\"\n",
            "_________________________________________________________________\n",
            " Layer (type)                Output Shape              Param #   \n",
            "=================================================================\n",
            " normalization_1 (Normalizat  (None, 1)                3         \n",
            " ion)                                                            \n",
            "                                                                 \n",
            " dense (Dense)               (None, 1)                 2         \n",
            "                                                                 \n",
            "=================================================================\n",
            "Total params: 5\n",
            "Trainable params: 2\n",
            "Non-trainable params: 3\n",
            "_________________________________________________________________\n"
          ]
        }
      ]
    },
    {
      "cell_type": "code",
      "source": [
        "goal_model.compile(\n",
        "    optimizer=tf.optimizers.Adam(learning_rate=0.1),\n",
        "    loss='mean_absolute_error')"
      ],
      "metadata": {
        "id": "WBEh0RViN6YW"
      },
      "execution_count": null,
      "outputs": []
    },
    {
      "cell_type": "code",
      "source": [
        "%%time\n",
        "history = goal_model.fit(\n",
        "    train_features['goal'], train_labels,\n",
        "    epochs=100,\n",
        "    # suppress logging\n",
        "    verbose=0,\n",
        "    # Calculate validation results on 20% of the training data. Validation means that we test as we go, on a 20% subset of the training data\n",
        "    validation_split = 0.2)"
      ],
      "metadata": {
        "colab": {
          "base_uri": "https://localhost:8080/"
        },
        "id": "RrXETJM3ONzk",
        "outputId": "70f331e1-71c7-443d-f9a3-14c902c39fe7"
      },
      "execution_count": null,
      "outputs": [
        {
          "output_type": "stream",
          "name": "stdout",
          "text": [
            "CPU times: user 2.63 s, sys: 98.4 ms, total: 2.72 s\n",
            "Wall time: 2.69 s\n"
          ]
        }
      ]
    },
    {
      "cell_type": "code",
      "source": [
        "x = tf.linspace(0.0, 250, 251)\n",
        "y = goal_model.predict(x)"
      ],
      "metadata": {
        "id": "PTuRzax_OVBS"
      },
      "execution_count": null,
      "outputs": []
    },
    {
      "cell_type": "code",
      "source": [
        "def plot_goal(x, y):\n",
        "  plt.scatter(train_features['goal'], train_labels, label='Data')\n",
        "  plt.plot(x, y, color='k', label='Predictions')\n",
        "  plt.xlabel('goal')\n",
        "  plt.ylabel('pledged')\n",
        "  plt.legend()\n",
        "plot_goal(x,y) "
      ],
      "metadata": {
        "colab": {
          "base_uri": "https://localhost:8080/",
          "height": 279
        },
        "id": "cRt61ZBtOd9c",
        "outputId": "3dc9becb-24cf-4a51-f92c-39ba51e28c5c"
      },
      "execution_count": null,
      "outputs": [
        {
          "output_type": "display_data",
          "data": {
            "text/plain": [
              "<Figure size 432x288 with 1 Axes>"
            ],
            "image/png": "[encoded data removed]"
          },
          "metadata": {
            "needs_background": "light"
          }
        }
      ]
    },
    {
      "cell_type": "code",
      "source": [
        "test_results = {}\n",
        "\n",
        "test_results['goal_model'] = goal_model.evaluate(\n",
        "    test_features['goal'],\n",
        "    test_labels, verbose=0)"
      ],
      "metadata": {
        "id": "gVZEC2UWOrz6"
      },
      "execution_count": null,
      "outputs": []
    },
    {
      "cell_type": "code",
      "source": [
        "linear_model = tf.keras.Sequential([\n",
        "    normalizer,\n",
        "    layers.Dense(units=1)\n",
        "])"
      ],
      "metadata": {
        "id": "ct7KKNAtO1yt"
      },
      "execution_count": null,
      "outputs": []
    },
    {
      "cell_type": "code",
      "source": [
        "linear_model.layers[1].kernel"
      ],
      "metadata": {
        "colab": {
          "base_uri": "https://localhost:8080/"
        },
        "id": "edg6OJCDO-jZ",
        "outputId": "e3f0c0c5-bf61-467f-af67-513eb3e8791e"
      },
      "execution_count": null,
      "outputs": [
        {
          "output_type": "execute_result",
          "data": {
            "text/plain": [
              "<tf.Variable 'dense_1/kernel:0' shape=(7, 1) dtype=float32, numpy=\n",
              "array([[ 0.20645529],\n",
              "       [-0.64183027],\n",
              "       [-0.7893623 ],\n",
              "       [-0.33005667],\n",
              "       [ 0.6383675 ],\n",
              "       [ 0.3801338 ],\n",
              "       [-0.33601624]], dtype=float32)>"
            ]
          },
          "metadata": {},
          "execution_count": 31
        }
      ]
    },
    {
      "cell_type": "code",
      "source": [
        "linear_model.compile(\n",
        "    optimizer=tf.optimizers.Adam(learning_rate=0.1),\n",
        "    loss='mean_absolute_error')"
      ],
      "metadata": {
        "id": "Lmdy6v5bPBrq"
      },
      "execution_count": null,
      "outputs": []
    },
    {
      "cell_type": "code",
      "source": [
        "%%time\n",
        "history = linear_model.fit(\n",
        "    train_features, train_labels, \n",
        "    epochs=100,\n",
        "    # 10 epochs, so we turn on logging\n",
        "    verbose=1,\n",
        "    # Calculate validation results on 20% of the training data\n",
        "    validation_split = 0.2)"
      ],
      "metadata": {
        "colab": {
          "base_uri": "https://localhost:8080/"
        },
        "id": "tyyhHIPbPJeJ",
        "outputId": "ce12f402-6faf-43b2-d995-3b27c97500ea"
      },
      "execution_count": null,
      "outputs": [
        {
          "output_type": "stream",
          "name": "stdout",
          "text": [
            "Epoch 1/100\n",
            "3/3 [==============================] - 1s 116ms/step - loss: 8060.9058 - val_loss: 9722.4014\n",
            "Epoch 2/100\n",
            "3/3 [==============================] - 0s 23ms/step - loss: 8060.4883 - val_loss: 9721.9854\n",
            "Epoch 3/100\n",
            "3/3 [==============================] - 0s 25ms/step - loss: 8060.0752 - val_loss: 9721.6729\n",
            "Epoch 4/100\n",
            "3/3 [==============================] - 0s 22ms/step - loss: 8059.7422 - val_loss: 9721.3447\n",
            "Epoch 5/100\n",
            "3/3 [==============================] - 0s 27ms/step - loss: 8059.3486 - val_loss: 9721.0391\n",
            "Epoch 6/100\n",
            "3/3 [==============================] - 0s 24ms/step - loss: 8059.0078 - val_loss: 9720.7764\n",
            "Epoch 7/100\n",
            "3/3 [==============================] - 0s 22ms/step - loss: 8058.7314 - val_loss: 9720.5225\n",
            "Epoch 8/100\n",
            "3/3 [==============================] - 0s 23ms/step - loss: 8058.3896 - val_loss: 9720.2432\n",
            "Epoch 9/100\n",
            "3/3 [==============================] - 0s 32ms/step - loss: 8058.0908 - val_loss: 9719.9854\n",
            "Epoch 10/100\n",
            "3/3 [==============================] - 0s 24ms/step - loss: 8057.7725 - val_loss: 9719.7432\n",
            "Epoch 11/100\n",
            "3/3 [==============================] - 0s 27ms/step - loss: 8057.4468 - val_loss: 9719.4971\n",
            "Epoch 12/100\n",
            "3/3 [==============================] - 0s 29ms/step - loss: 8057.1528 - val_loss: 9719.2354\n",
            "Epoch 13/100\n",
            "3/3 [==============================] - 0s 21ms/step - loss: 8056.8394 - val_loss: 9718.9727\n",
            "Epoch 14/100\n",
            "3/3 [==============================] - 0s 22ms/step - loss: 8056.5146 - val_loss: 9718.7148\n",
            "Epoch 15/100\n",
            "3/3 [==============================] - 0s 22ms/step - loss: 8056.2144 - val_loss: 9718.4600\n",
            "Epoch 16/100\n",
            "3/3 [==============================] - 0s 24ms/step - loss: 8055.9053 - val_loss: 9718.2100\n",
            "Epoch 17/100\n",
            "3/3 [==============================] - 0s 21ms/step - loss: 8055.6011 - val_loss: 9717.9600\n",
            "Epoch 18/100\n",
            "3/3 [==============================] - 0s 24ms/step - loss: 8055.2974 - val_loss: 9717.7061\n",
            "Epoch 19/100\n",
            "3/3 [==============================] - 0s 27ms/step - loss: 8054.9888 - val_loss: 9717.4561\n",
            "Epoch 20/100\n",
            "3/3 [==============================] - 0s 23ms/step - loss: 8054.6816 - val_loss: 9717.2021\n",
            "Epoch 21/100\n",
            "3/3 [==============================] - 0s 25ms/step - loss: 8054.3750 - val_loss: 9716.9521\n",
            "Epoch 22/100\n",
            "3/3 [==============================] - 0s 26ms/step - loss: 8054.1006 - val_loss: 9716.6904\n",
            "Epoch 23/100\n",
            "3/3 [==============================] - 0s 25ms/step - loss: 8053.7817 - val_loss: 9716.4414\n",
            "Epoch 24/100\n",
            "3/3 [==============================] - 0s 38ms/step - loss: 8053.4634 - val_loss: 9716.1963\n",
            "Epoch 25/100\n",
            "3/3 [==============================] - 0s 23ms/step - loss: 8053.1636 - val_loss: 9715.9541\n",
            "Epoch 26/100\n",
            "3/3 [==============================] - 0s 22ms/step - loss: 8052.8623 - val_loss: 9715.7012\n",
            "Epoch 27/100\n",
            "3/3 [==============================] - 0s 51ms/step - loss: 8052.5488 - val_loss: 9715.4492\n",
            "Epoch 28/100\n",
            "3/3 [==============================] - 0s 29ms/step - loss: 8052.2373 - val_loss: 9715.1992\n",
            "Epoch 29/100\n",
            "3/3 [==============================] - 0s 27ms/step - loss: 8051.9502 - val_loss: 9714.9551\n",
            "Epoch 30/100\n",
            "3/3 [==============================] - 0s 25ms/step - loss: 8051.6528 - val_loss: 9714.7100\n",
            "Epoch 31/100\n",
            "3/3 [==============================] - 0s 25ms/step - loss: 8051.3262 - val_loss: 9714.4531\n",
            "Epoch 32/100\n",
            "3/3 [==============================] - 0s 26ms/step - loss: 8051.0264 - val_loss: 9714.2090\n",
            "Epoch 33/100\n",
            "3/3 [==============================] - 0s 26ms/step - loss: 8050.7393 - val_loss: 9713.9648\n",
            "Epoch 34/100\n",
            "3/3 [==============================] - 0s 26ms/step - loss: 8050.4297 - val_loss: 9713.7070\n",
            "Epoch 35/100\n",
            "3/3 [==============================] - 0s 31ms/step - loss: 8050.1274 - val_loss: 9713.4443\n",
            "Epoch 36/100\n",
            "3/3 [==============================] - 0s 23ms/step - loss: 8049.8301 - val_loss: 9713.2021\n",
            "Epoch 37/100\n",
            "3/3 [==============================] - 0s 26ms/step - loss: 8049.5117 - val_loss: 9712.9521\n",
            "Epoch 38/100\n",
            "3/3 [==============================] - 0s 25ms/step - loss: 8049.2217 - val_loss: 9712.6992\n",
            "Epoch 39/100\n",
            "3/3 [==============================] - 0s 21ms/step - loss: 8048.8960 - val_loss: 9712.4404\n",
            "Epoch 40/100\n",
            "3/3 [==============================] - 0s 26ms/step - loss: 8048.6064 - val_loss: 9712.1914\n",
            "Epoch 41/100\n",
            "3/3 [==============================] - 0s 33ms/step - loss: 8048.3105 - val_loss: 9711.9492\n",
            "Epoch 42/100\n",
            "3/3 [==============================] - 0s 22ms/step - loss: 8048.0288 - val_loss: 9711.7080\n",
            "Epoch 43/100\n",
            "3/3 [==============================] - 0s 29ms/step - loss: 8047.6899 - val_loss: 9711.4658\n",
            "Epoch 44/100\n",
            "3/3 [==============================] - 0s 22ms/step - loss: 8047.3857 - val_loss: 9711.2080\n",
            "Epoch 45/100\n",
            "3/3 [==============================] - 0s 23ms/step - loss: 8047.1079 - val_loss: 9710.9492\n",
            "Epoch 46/100\n",
            "3/3 [==============================] - 0s 20ms/step - loss: 8046.7856 - val_loss: 9710.7256\n",
            "Epoch 47/100\n",
            "3/3 [==============================] - 0s 25ms/step - loss: 8046.5093 - val_loss: 9710.4678\n",
            "Epoch 48/100\n",
            "3/3 [==============================] - 0s 22ms/step - loss: 8046.1973 - val_loss: 9710.2275\n",
            "Epoch 49/100\n",
            "3/3 [==============================] - 0s 21ms/step - loss: 8045.8843 - val_loss: 9709.9814\n",
            "Epoch 50/100\n",
            "3/3 [==============================] - 0s 26ms/step - loss: 8045.5811 - val_loss: 9709.7393\n",
            "Epoch 51/100\n",
            "3/3 [==============================] - 0s 23ms/step - loss: 8045.2837 - val_loss: 9709.4961\n",
            "Epoch 52/100\n",
            "3/3 [==============================] - 0s 21ms/step - loss: 8044.9902 - val_loss: 9709.2363\n",
            "Epoch 53/100\n",
            "3/3 [==============================] - 0s 25ms/step - loss: 8044.6895 - val_loss: 9708.9873\n",
            "Epoch 54/100\n",
            "3/3 [==============================] - 0s 25ms/step - loss: 8044.3726 - val_loss: 9708.7393\n",
            "Epoch 55/100\n",
            "3/3 [==============================] - 0s 23ms/step - loss: 8044.0801 - val_loss: 9708.4932\n",
            "Epoch 56/100\n",
            "3/3 [==============================] - 0s 21ms/step - loss: 8043.7861 - val_loss: 9708.2607\n",
            "Epoch 57/100\n",
            "3/3 [==============================] - 0s 21ms/step - loss: 8043.4771 - val_loss: 9708.0205\n",
            "Epoch 58/100\n",
            "3/3 [==============================] - 0s 29ms/step - loss: 8043.1729 - val_loss: 9707.7607\n",
            "Epoch 59/100\n",
            "3/3 [==============================] - 0s 25ms/step - loss: 8042.8511 - val_loss: 9707.5078\n",
            "Epoch 60/100\n",
            "3/3 [==============================] - 0s 23ms/step - loss: 8042.5796 - val_loss: 9707.2695\n",
            "Epoch 61/100\n",
            "3/3 [==============================] - 0s 26ms/step - loss: 8042.2578 - val_loss: 9707.0264\n",
            "Epoch 62/100\n",
            "3/3 [==============================] - 0s 22ms/step - loss: 8041.9722 - val_loss: 9706.7812\n",
            "Epoch 63/100\n",
            "3/3 [==============================] - 0s 21ms/step - loss: 8041.6670 - val_loss: 9706.5273\n",
            "Epoch 64/100\n",
            "3/3 [==============================] - 0s 24ms/step - loss: 8041.3613 - val_loss: 9706.2910\n",
            "Epoch 65/100\n",
            "3/3 [==============================] - 0s 24ms/step - loss: 8041.0659 - val_loss: 9706.0459\n",
            "Epoch 66/100\n",
            "3/3 [==============================] - 0s 28ms/step - loss: 8040.7554 - val_loss: 9705.8096\n",
            "Epoch 67/100\n",
            "3/3 [==============================] - 0s 21ms/step - loss: 8040.4531 - val_loss: 9705.5635\n",
            "Epoch 68/100\n",
            "3/3 [==============================] - 0s 27ms/step - loss: 8040.1748 - val_loss: 9705.2979\n",
            "Epoch 69/100\n",
            "3/3 [==============================] - 0s 26ms/step - loss: 8039.8521 - val_loss: 9705.0576\n",
            "Epoch 70/100\n",
            "3/3 [==============================] - 0s 24ms/step - loss: 8039.5581 - val_loss: 9704.8193\n",
            "Epoch 71/100\n",
            "3/3 [==============================] - 0s 24ms/step - loss: 8039.2515 - val_loss: 9704.5801\n",
            "Epoch 72/100\n",
            "3/3 [==============================] - 0s 22ms/step - loss: 8038.9502 - val_loss: 9704.3467\n",
            "Epoch 73/100\n",
            "3/3 [==============================] - 0s 27ms/step - loss: 8038.6479 - val_loss: 9704.0898\n",
            "Epoch 74/100\n",
            "3/3 [==============================] - 0s 26ms/step - loss: 8038.3564 - val_loss: 9703.8486\n",
            "Epoch 75/100\n",
            "3/3 [==============================] - 0s 23ms/step - loss: 8038.0435 - val_loss: 9703.6162\n",
            "Epoch 76/100\n",
            "3/3 [==============================] - 0s 24ms/step - loss: 8037.7520 - val_loss: 9703.3604\n",
            "Epoch 77/100\n",
            "3/3 [==============================] - 0s 24ms/step - loss: 8037.4580 - val_loss: 9703.1357\n",
            "Epoch 78/100\n",
            "3/3 [==============================] - 0s 37ms/step - loss: 8037.1455 - val_loss: 9702.8818\n",
            "Epoch 79/100\n",
            "3/3 [==============================] - 0s 21ms/step - loss: 8036.8555 - val_loss: 9702.6348\n",
            "Epoch 80/100\n",
            "3/3 [==============================] - 0s 26ms/step - loss: 8036.5513 - val_loss: 9702.3818\n",
            "Epoch 81/100\n",
            "3/3 [==============================] - 0s 33ms/step - loss: 8036.2383 - val_loss: 9702.1416\n",
            "Epoch 82/100\n",
            "3/3 [==============================] - 0s 23ms/step - loss: 8035.9331 - val_loss: 9701.8867\n",
            "Epoch 83/100\n",
            "3/3 [==============================] - 0s 21ms/step - loss: 8035.6289 - val_loss: 9701.6523\n",
            "Epoch 84/100\n",
            "3/3 [==============================] - 0s 24ms/step - loss: 8035.3462 - val_loss: 9701.3877\n",
            "Epoch 85/100\n",
            "3/3 [==============================] - 0s 23ms/step - loss: 8035.0381 - val_loss: 9701.1592\n",
            "Epoch 86/100\n",
            "3/3 [==============================] - 0s 27ms/step - loss: 8034.7515 - val_loss: 9700.9189\n",
            "Epoch 87/100\n",
            "3/3 [==============================] - 0s 23ms/step - loss: 8034.4429 - val_loss: 9700.6572\n",
            "Epoch 88/100\n",
            "3/3 [==============================] - 0s 30ms/step - loss: 8034.1416 - val_loss: 9700.4072\n",
            "Epoch 89/100\n",
            "3/3 [==============================] - 0s 31ms/step - loss: 8033.8447 - val_loss: 9700.1689\n",
            "Epoch 90/100\n",
            "3/3 [==============================] - 0s 20ms/step - loss: 8033.5186 - val_loss: 9699.9170\n",
            "Epoch 91/100\n",
            "3/3 [==============================] - 0s 40ms/step - loss: 8033.2617 - val_loss: 9699.6758\n",
            "Epoch 92/100\n",
            "3/3 [==============================] - 0s 72ms/step - loss: 8032.9302 - val_loss: 9699.4287\n",
            "Epoch 93/100\n",
            "3/3 [==============================] - 0s 69ms/step - loss: 8032.6382 - val_loss: 9699.1807\n",
            "Epoch 94/100\n",
            "3/3 [==============================] - 0s 62ms/step - loss: 8032.3218 - val_loss: 9698.9541\n",
            "Epoch 95/100\n",
            "3/3 [==============================] - 0s 63ms/step - loss: 8032.0171 - val_loss: 9698.7158\n",
            "Epoch 96/100\n",
            "3/3 [==============================] - 0s 62ms/step - loss: 8031.7251 - val_loss: 9698.4502\n",
            "Epoch 97/100\n",
            "3/3 [==============================] - 0s 71ms/step - loss: 8031.4238 - val_loss: 9698.2217\n",
            "Epoch 98/100\n",
            "3/3 [==============================] - 0s 31ms/step - loss: 8031.1143 - val_loss: 9697.9678\n",
            "Epoch 99/100\n",
            "3/3 [==============================] - 0s 41ms/step - loss: 8030.8184 - val_loss: 9697.7129\n",
            "Epoch 100/100\n",
            "3/3 [==============================] - 0s 14ms/step - loss: 8030.5308 - val_loss: 9697.4609\n",
            "CPU times: user 5.92 s, sys: 218 ms, total: 6.14 s\n",
            "Wall time: 8.05 s\n"
          ]
        }
      ]
    },
    {
      "cell_type": "code",
      "source": [
        "test_results['linear_model'] = linear_model.evaluate(\n",
        "    test_features, test_labels, verbose=0)"
      ],
      "metadata": {
        "id": "NNQlK0g4PceA"
      },
      "execution_count": null,
      "outputs": []
    },
    {
      "cell_type": "code",
      "source": [
        "def build_and_compile_model(norm):\n",
        "  model = keras.Sequential([                 # Here you are setting up the keras.Sequential architecture\n",
        "      norm,                                  # This is the normalizer function we built before\n",
        "      layers.Dense(64, activation='relu'),   # Here is the first hidden layer--64 nodes, built with the relu function\n",
        "      layers.Dense(64, activation='relu'),   # Here is the second hidden layer, also built with the relu function\n",
        "      layers.Dense(1)                        # Here is the Dense layer for a single output because we are working on a REGRESSION\n",
        "  ])                                         # AND WE'RE DONE WITH BUILDING THE MODEL!\n",
        "\n",
        "  model.compile(loss='mean_absolute_error',   # Now we configure the runtime for our model; the loss function is mean absolute error--makes sense for a regression!\n",
        "                optimizer=tf.keras.optimizers.Adam(0.001))\n",
        "  return model"
      ],
      "metadata": {
        "id": "XSdeP80dPvQ6"
      },
      "execution_count": null,
      "outputs": []
    },
    {
      "cell_type": "code",
      "source": [
        "dnn_goal_model = build_and_compile_model(goal_normalizer)"
      ],
      "metadata": {
        "id": "1IJDxmWRPznj"
      },
      "execution_count": null,
      "outputs": []
    },
    {
      "cell_type": "code",
      "source": [
        "dnn_goal_model.summary()"
      ],
      "metadata": {
        "colab": {
          "base_uri": "https://localhost:8080/"
        },
        "id": "e6w-LNOXP4oH",
        "outputId": "09cd8177-1628-481e-8be3-e0e1bac66569"
      },
      "execution_count": null,
      "outputs": [
        {
          "output_type": "stream",
          "name": "stdout",
          "text": [
            "Model: \"sequential_2\"\n",
            "_________________________________________________________________\n",
            " Layer (type)                Output Shape              Param #   \n",
            "=================================================================\n",
            " normalization_1 (Normalizat  (None, 1)                3         \n",
            " ion)                                                            \n",
            "                                                                 \n",
            " dense_2 (Dense)             (None, 64)                128       \n",
            "                                                                 \n",
            " dense_3 (Dense)             (None, 64)                4160      \n",
            "                                                                 \n",
            " dense_4 (Dense)             (None, 1)                 65        \n",
            "                                                                 \n",
            "=================================================================\n",
            "Total params: 4,356\n",
            "Trainable params: 4,353\n",
            "Non-trainable params: 3\n",
            "_________________________________________________________________\n"
          ]
        }
      ]
    },
    {
      "cell_type": "code",
      "source": [
        "%%time\n",
        "history = dnn_goal_model.fit(\n",
        "    train_features['goal'], train_labels,\n",
        "    validation_split=0.2,\n",
        "    verbose=1, epochs=10)"
      ],
      "metadata": {
        "colab": {
          "base_uri": "https://localhost:8080/"
        },
        "id": "kay8ZnC4P8gj",
        "outputId": "4695614c-db65-4294-f15b-c317241909bc"
      },
      "execution_count": null,
      "outputs": [
        {
          "output_type": "stream",
          "name": "stdout",
          "text": [
            "Epoch 1/10\n",
            "3/3 [==============================] - 1s 216ms/step - loss: 8060.6055 - val_loss: 9722.2900\n",
            "Epoch 2/10\n",
            "3/3 [==============================] - 0s 40ms/step - loss: 8060.5562 - val_loss: 9722.2441\n",
            "Epoch 3/10\n",
            "3/3 [==============================] - 0s 45ms/step - loss: 8060.4985 - val_loss: 9722.1982\n",
            "Epoch 4/10\n",
            "3/3 [==============================] - 0s 57ms/step - loss: 8060.4492 - val_loss: 9722.1494\n",
            "Epoch 5/10\n",
            "3/3 [==============================] - 0s 58ms/step - loss: 8060.3975 - val_loss: 9722.0986\n",
            "Epoch 6/10\n",
            "3/3 [==============================] - 0s 58ms/step - loss: 8060.3462 - val_loss: 9722.0430\n",
            "Epoch 7/10\n",
            "3/3 [==============================] - 0s 34ms/step - loss: 8060.2900 - val_loss: 9721.9805\n",
            "Epoch 8/10\n",
            "3/3 [==============================] - 0s 25ms/step - loss: 8060.2217 - val_loss: 9721.9111\n",
            "Epoch 9/10\n",
            "3/3 [==============================] - 0s 50ms/step - loss: 8060.1475 - val_loss: 9721.8369\n",
            "Epoch 10/10\n",
            "3/3 [==============================] - 0s 44ms/step - loss: 8060.0732 - val_loss: 9721.7559\n",
            "CPU times: user 1.39 s, sys: 48.5 ms, total: 1.44 s\n",
            "Wall time: 2.16 s\n"
          ]
        }
      ]
    },
    {
      "cell_type": "code",
      "source": [
        "x = tf.linspace(0.0, 250, 251)\n",
        "y = dnn_goal_model.predict(x)\n",
        "\n",
        "plot_goal(x, y)"
      ],
      "metadata": {
        "colab": {
          "base_uri": "https://localhost:8080/",
          "height": 279
        },
        "id": "nh6OteAzQCNp",
        "outputId": "cee04486-2941-425f-ae6b-f09432e1e786"
      },
      "execution_count": null,
      "outputs": [
        {
          "output_type": "display_data",
          "data": {
            "text/plain": [
              "<Figure size 432x288 with 1 Axes>"
            ],
            "image/png": "[encoded data removed]"
          },
          "metadata": {
            "needs_background": "light"
          }
        }
      ]
    },
    {
      "cell_type": "code",
      "source": [
        "test_results['dnn_goal_model'] = dnn_goal_model.evaluate(\n",
        "    test_features['goal'], test_labels,\n",
        "    verbose=0)"
      ],
      "metadata": {
        "id": "HZxqFDE7QNg3"
      },
      "execution_count": null,
      "outputs": []
    },
    {
      "cell_type": "code",
      "source": [
        "dnn_model = build_and_compile_model(normalizer)\n",
        "dnn_model.summary()"
      ],
      "metadata": {
        "colab": {
          "base_uri": "https://localhost:8080/"
        },
        "id": "cOQdymuwQTUO",
        "outputId": "bbcdce86-1c8b-43f1-f297-e0de386a7ec8"
      },
      "execution_count": null,
      "outputs": [
        {
          "output_type": "stream",
          "name": "stdout",
          "text": [
            "Model: \"sequential_3\"\n",
            "_________________________________________________________________\n",
            " Layer (type)                Output Shape              Param #   \n",
            "=================================================================\n",
            " normalization (Normalizatio  (None, 7)                15        \n",
            " n)                                                              \n",
            "                                                                 \n",
            " dense_5 (Dense)             (None, 64)                512       \n",
            "                                                                 \n",
            " dense_6 (Dense)             (None, 64)                4160      \n",
            "                                                                 \n",
            " dense_7 (Dense)             (None, 1)                 65        \n",
            "                                                                 \n",
            "=================================================================\n",
            "Total params: 4,752\n",
            "Trainable params: 4,737\n",
            "Non-trainable params: 15\n",
            "_________________________________________________________________\n"
          ]
        }
      ]
    },
    {
      "cell_type": "code",
      "source": [
        "%%time\n",
        "history = dnn_model.fit(\n",
        "    train_features, train_labels,\n",
        "    validation_split=0.2,\n",
        "    verbose=1, epochs=10)"
      ],
      "metadata": {
        "colab": {
          "base_uri": "https://localhost:8080/"
        },
        "id": "Pj-0H8_gQXRe",
        "outputId": "5a9205f1-b124-42ca-f849-6b4e83ed965d"
      },
      "execution_count": null,
      "outputs": [
        {
          "output_type": "stream",
          "name": "stdout",
          "text": [
            "Epoch 1/10\n",
            "3/3 [==============================] - 1s 308ms/step - loss: 8060.4033 - val_loss: 9722.1123\n",
            "Epoch 2/10\n",
            "3/3 [==============================] - 0s 26ms/step - loss: 8060.2671 - val_loss: 9722.0088\n",
            "Epoch 3/10\n",
            "3/3 [==============================] - 0s 21ms/step - loss: 8060.1514 - val_loss: 9721.9023\n",
            "Epoch 4/10\n",
            "3/3 [==============================] - 0s 24ms/step - loss: 8060.0000 - val_loss: 9721.7930\n",
            "Epoch 5/10\n",
            "3/3 [==============================] - 0s 26ms/step - loss: 8059.8677 - val_loss: 9721.6787\n",
            "Epoch 6/10\n",
            "3/3 [==============================] - 0s 25ms/step - loss: 8059.7144 - val_loss: 9721.5576\n",
            "Epoch 7/10\n",
            "3/3 [==============================] - 0s 27ms/step - loss: 8059.5547 - val_loss: 9721.4346\n",
            "Epoch 8/10\n",
            "3/3 [==============================] - 0s 27ms/step - loss: 8059.3921 - val_loss: 9721.3086\n",
            "Epoch 9/10\n",
            "3/3 [==============================] - 0s 28ms/step - loss: 8059.2173 - val_loss: 9721.1719\n",
            "Epoch 10/10\n",
            "3/3 [==============================] - 0s 27ms/step - loss: 8059.0210 - val_loss: 9721.0244\n",
            "CPU times: user 1.74 s, sys: 32.5 ms, total: 1.78 s\n",
            "Wall time: 1.98 s\n"
          ]
        }
      ]
    },
    {
      "cell_type": "code",
      "source": [
        "test_predictions = dnn_model.predict(test_features).flatten()\n",
        "\n",
        "a = plt.axes(aspect='equal')\n",
        "plt.scatter(test_labels, test_predictions)\n",
        "plt.xlabel('True Values [pledged]')\n",
        "plt.ylabel('Predictions [pledged]')\n",
        "lims = [0, 50]\n",
        "plt.xlim(lims)\n",
        "plt.ylim(lims)\n",
        "_ = plt.plot(lims, lims)"
      ],
      "metadata": {
        "colab": {
          "base_uri": "https://localhost:8080/",
          "height": 283
        },
        "id": "GIip-daOQhtE",
        "outputId": "c5ce2f4d-ecbe-4e6a-f3e8-77bb213e2ae6"
      },
      "execution_count": null,
      "outputs": [
        {
          "output_type": "display_data",
          "data": {
            "text/plain": [
              "<Figure size 432x288 with 1 Axes>"
            ],
            "image/png": "[encoded data removed]"
          },
          "metadata": {
            "needs_background": "light"
          }
        }
      ]
    },
    {
      "cell_type": "code",
      "source": [
        "test_predictions = dnn_model.predict(test_features).flatten()"
      ],
      "metadata": {
        "id": "Uhtw5H4NQmey"
      },
      "execution_count": null,
      "outputs": []
    },
    {
      "cell_type": "code",
      "source": [
        "test_results['dnn_model'] = dnn_model.evaluate(test_features, test_labels, verbose=0)"
      ],
      "metadata": {
        "id": "NBTn1UJvQpJa"
      },
      "execution_count": null,
      "outputs": []
    },
    {
      "cell_type": "code",
      "source": [
        "pd.DataFrame(test_results, index=['Mean absolute error [pledged]']).T"
      ],
      "metadata": {
        "colab": {
          "base_uri": "https://localhost:8080/",
          "height": 175
        },
        "id": "673gExS_Qrl4",
        "outputId": "44169ae1-537a-41df-af1c-8c75c44ea574"
      },
      "execution_count": null,
      "outputs": [
        {
          "output_type": "execute_result",
          "data": {
            "text/plain": [
              "                Mean absolute error [pledged]\n",
              "goal_model                        4828.419922\n",
              "linear_model                      4823.018066\n",
              "dnn_goal_model                    4845.943359\n",
              "dnn_model                         4845.020020"
            ],
            "text/html": [
              "\n",
              "  <div id=\"df-dce3e22a-6e1d-4a87-af62-ee7dbb08476b\">\n",
              "    <div class=\"colab-df-container\">\n",
              "      <div>\n",
              "<style scoped>\n",
              "    .dataframe tbody tr th:only-of-type {\n",
              "        vertical-align: middle;\n",
              "    }\n",
              "\n",
              "    .dataframe tbody tr th {\n",
              "        vertical-align: top;\n",
              "    }\n",
              "\n",
              "    .dataframe thead th {\n",
              "        text-align: right;\n",
              "    }\n",
              "</style>\n",
              "<table border=\"1\" class=\"dataframe\">\n",
              "  <thead>\n",
              "    <tr style=\"text-align: right;\">\n",
              "      <th></th>\n",
              "      <th>Mean absolute error [pledged]</th>\n",
              "    </tr>\n",
              "  </thead>\n",
              "  <tbody>\n",
              "    <tr>\n",
              "      <th>goal_model</th>\n",
              "      <td>4828.419922</td>\n",
              "    </tr>\n",
              "    <tr>\n",
              "      <th>linear_model</th>\n",
              "      <td>4823.018066</td>\n",
              "    </tr>\n",
              "    <tr>\n",
              "      <th>dnn_goal_model</th>\n",
              "      <td>4845.943359</td>\n",
              "    </tr>\n",
              "    <tr>\n",
              "      <th>dnn_model</th>\n",
              "      <td>4845.020020</td>\n",
              "    </tr>\n",
              "  </tbody>\n",
              "</table>\n",
              "</div>\n",
              "      <button class=\"colab-df-convert\" onclick=\"convertToInteractive('df-dce3e22a-6e1d-4a87-af62-ee7dbb08476b')\"\n",
              "              title=\"Convert this dataframe to an interactive table.\"\n",
              "              style=\"display:none;\">\n",
              "        \n",
              "  <svg xmlns=\"http://www.w3.org/2000/svg\" height=\"24px\"viewBox=\"0 0 24 24\"\n",
              "       width=\"24px\">\n",
              "    <path d=\"M0 0h24v24H0V0z\" fill=\"none\"/>\n",
              "    <path d=\"M18.56 5.44l.94 2.06.94-2.06 2.06-.94-2.06-.94-.94-2.06-.94 2.06-2.06.94zm-11 1L8.5 8.5l.94-2.06 2.06-.94-2.06-.94L8.5 2.5l-.94 2.06-2.06.94zm10 10l.94 2.06.94-2.06 2.06-.94-2.06-.94-.94-2.06-.94 2.06-2.06.94z\"/><path d=\"M17.41 7.96l-1.37-1.37c-.4-.4-.92-.59-1.43-.59-.52 0-1.04.2-1.43.59L10.3 9.45l-7.72 7.72c-.78.78-.78 2.05 0 2.83L4 21.41c.39.39.9.59 1.41.59.51 0 1.02-.2 1.41-.59l7.78-7.78 2.81-2.81c.8-.78.8-2.07 0-2.86zM5.41 20L4 18.59l7.72-7.72 1.47 1.35L5.41 20z\"/>\n",
              "  </svg>\n",
              "      </button>\n",
              "      \n",
              "  <style>\n",
              "    .colab-df-container {\n",
              "      display:flex;\n",
              "      flex-wrap:wrap;\n",
              "      gap: 12px;\n",
              "    }\n",
              "\n",
              "    .colab-df-convert {\n",
              "      background-color: #E8F0FE;\n",
              "      border: none;\n",
              "      border-radius: 50%;\n",
              "      cursor: pointer;\n",
              "      display: none;\n",
              "      fill: #1967D2;\n",
              "      height: 32px;\n",
              "      padding: 0 0 0 0;\n",
              "      width: 32px;\n",
              "    }\n",
              "\n",
              "    .colab-df-convert:hover {\n",
              "      background-color: #E2EBFA;\n",
              "      box-shadow: 0px 1px 2px rgba(60, 64, 67, 0.3), 0px 1px 3px 1px rgba(60, 64, 67, 0.15);\n",
              "      fill: #174EA6;\n",
              "    }\n",
              "\n",
              "    [theme=dark] .colab-df-convert {\n",
              "      background-color: #3B4455;\n",
              "      fill: #D2E3FC;\n",
              "    }\n",
              "\n",
              "    [theme=dark] .colab-df-convert:hover {\n",
              "      background-color: #434B5C;\n",
              "      box-shadow: 0px 1px 3px 1px rgba(0, 0, 0, 0.15);\n",
              "      filter: drop-shadow(0px 1px 2px rgba(0, 0, 0, 0.3));\n",
              "      fill: #FFFFFF;\n",
              "    }\n",
              "  </style>\n",
              "\n",
              "      <script>\n",
              "        const buttonEl =\n",
              "          document.querySelector('#df-dce3e22a-6e1d-4a87-af62-ee7dbb08476b button.colab-df-convert');\n",
              "        buttonEl.style.display =\n",
              "          google.colab.kernel.accessAllowed ? 'block' : 'none';\n",
              "\n",
              "        async function convertToInteractive(key) {\n",
              "          const element = document.querySelector('#df-dce3e22a-6e1d-4a87-af62-ee7dbb08476b');\n",
              "          const dataTable =\n",
              "            await google.colab.kernel.invokeFunction('convertToInteractive',\n",
              "                                                     [key], {});\n",
              "          if (!dataTable) return;\n",
              "\n",
              "          const docLinkHtml = 'Like what you see? Visit the ' +\n",
              "            '<a target=\"_blank\" href=https://colab.research.google.com/notebooks/data_table.ipynb>data table notebook</a>'\n",
              "            + ' to learn more about interactive tables.';\n",
              "          element.innerHTML = '';\n",
              "          dataTable['output_type'] = 'display_data';\n",
              "          await google.colab.output.renderOutput(dataTable, element);\n",
              "          const docLink = document.createElement('div');\n",
              "          docLink.innerHTML = docLinkHtml;\n",
              "          element.appendChild(docLink);\n",
              "        }\n",
              "      </script>\n",
              "    </div>\n",
              "  </div>\n",
              "  "
            ]
          },
          "metadata": {},
          "execution_count": 46
        }
      ]
    },
    {
      "cell_type": "code",
      "source": [
        ""
      ],
      "metadata": {
        "id": "TAPoUGf0Qv7x"
      },
      "execution_count": null,
      "outputs": []
    }
  ]
}