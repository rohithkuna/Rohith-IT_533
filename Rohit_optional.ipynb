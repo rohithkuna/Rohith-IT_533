{
  "cells": [
    {
      "cell_type": "code",
      "execution_count": null,
      "id": "894ec234",
      "metadata": {
        "id": "894ec234"
      },
      "outputs": [],
      "source": [
        "import numpy as np\n",
        "import pandas as pd \n",
        "import matplotlib.pyplot as plt\n",
        "import math\n",
        "import sklearn.metrics as metrics\n",
        "from sklearn.metrics import classification_report\n",
        "import warnings\n",
        "warnings.filterwarnings(\"ignore\")"
      ]
    },
    {
      "cell_type": "code",
      "execution_count": null,
      "id": "a880f164",
      "metadata": {
        "colab": {
          "base_uri": "https://localhost:8080/",
          "height": 250
        },
        "id": "a880f164",
        "outputId": "e50b41fa-9cf9-4de5-bea2-7fb9f3d5ee37"
      },
      "outputs": [
        {
          "output_type": "execute_result",
          "data": {
            "text/plain": [
              "   SEASON YEAR  WEEK  TEST ID                  BLOCK  TRAP TRAP_TYPE  \\\n",
              "0         2014    39    40542  100XX W OHARE AIRPORT  T902    GRAVID   \n",
              "1         2016    37    44219  100XX W OHARE AIRPORT  T902    GRAVID   \n",
              "2         2017    33    45351  100XX W OHARE AIRPORT  T905    GRAVID   \n",
              "3         2017    33    45345  100XX W OHARE AIRPORT  T900    GRAVID   \n",
              "4         2016    37    44169            4XX W 127TH  T135    GRAVID   \n",
              "\n",
              "                TEST DATE  NUMBER OF MOSQUITOES    RESULT  \\\n",
              "0  09/25/2014 12:09:00 AM                     8  negative   \n",
              "1  09/15/2016 12:09:00 AM                    39  negative   \n",
              "2  08/17/2017 12:08:00 AM                    50  positive   \n",
              "3  08/17/2017 12:08:00 AM                    17  positive   \n",
              "4  09/15/2016 12:09:00 AM                    12  negative   \n",
              "\n",
              "                  SPECIES  LATITUDE  LONGITUDE LOCATION  \n",
              "0  CULEX PIPIENS/RESTUANS       NaN        NaN      NaN  \n",
              "1  CULEX PIPIENS/RESTUANS       NaN        NaN      NaN  \n",
              "2  CULEX PIPIENS/RESTUANS       NaN        NaN      NaN  \n",
              "3  CULEX PIPIENS/RESTUANS       NaN        NaN      NaN  \n",
              "4  CULEX PIPIENS/RESTUANS       NaN        NaN      NaN  "
            ],
            "text/html": [
              "\n",
              "  <div id=\"df-8d63a62f-d9e2-4b93-987b-a318ee9fabdc\">\n",
              "    <div class=\"colab-df-container\">\n",
              "      <div>\n",
              "<style scoped>\n",
              "    .dataframe tbody tr th:only-of-type {\n",
              "        vertical-align: middle;\n",
              "    }\n",
              "\n",
              "    .dataframe tbody tr th {\n",
              "        vertical-align: top;\n",
              "    }\n",
              "\n",
              "    .dataframe thead th {\n",
              "        text-align: right;\n",
              "    }\n",
              "</style>\n",
              "<table border=\"1\" class=\"dataframe\">\n",
              "  <thead>\n",
              "    <tr style=\"text-align: right;\">\n",
              "      <th></th>\n",
              "      <th>SEASON YEAR</th>\n",
              "      <th>WEEK</th>\n",
              "      <th>TEST ID</th>\n",
              "      <th>BLOCK</th>\n",
              "      <th>TRAP</th>\n",
              "      <th>TRAP_TYPE</th>\n",
              "      <th>TEST DATE</th>\n",
              "      <th>NUMBER OF MOSQUITOES</th>\n",
              "      <th>RESULT</th>\n",
              "      <th>SPECIES</th>\n",
              "      <th>LATITUDE</th>\n",
              "      <th>LONGITUDE</th>\n",
              "      <th>LOCATION</th>\n",
              "    </tr>\n",
              "  </thead>\n",
              "  <tbody>\n",
              "    <tr>\n",
              "      <th>0</th>\n",
              "      <td>2014</td>\n",
              "      <td>39</td>\n",
              "      <td>40542</td>\n",
              "      <td>100XX W OHARE AIRPORT</td>\n",
              "      <td>T902</td>\n",
              "      <td>GRAVID</td>\n",
              "      <td>09/25/2014 12:09:00 AM</td>\n",
              "      <td>8</td>\n",
              "      <td>negative</td>\n",
              "      <td>CULEX PIPIENS/RESTUANS</td>\n",
              "      <td>NaN</td>\n",
              "      <td>NaN</td>\n",
              "      <td>NaN</td>\n",
              "    </tr>\n",
              "    <tr>\n",
              "      <th>1</th>\n",
              "      <td>2016</td>\n",
              "      <td>37</td>\n",
              "      <td>44219</td>\n",
              "      <td>100XX W OHARE AIRPORT</td>\n",
              "      <td>T902</td>\n",
              "      <td>GRAVID</td>\n",
              "      <td>09/15/2016 12:09:00 AM</td>\n",
              "      <td>39</td>\n",
              "      <td>negative</td>\n",
              "      <td>CULEX PIPIENS/RESTUANS</td>\n",
              "      <td>NaN</td>\n",
              "      <td>NaN</td>\n",
              "      <td>NaN</td>\n",
              "    </tr>\n",
              "    <tr>\n",
              "      <th>2</th>\n",
              "      <td>2017</td>\n",
              "      <td>33</td>\n",
              "      <td>45351</td>\n",
              "      <td>100XX W OHARE AIRPORT</td>\n",
              "      <td>T905</td>\n",
              "      <td>GRAVID</td>\n",
              "      <td>08/17/2017 12:08:00 AM</td>\n",
              "      <td>50</td>\n",
              "      <td>positive</td>\n",
              "      <td>CULEX PIPIENS/RESTUANS</td>\n",
              "      <td>NaN</td>\n",
              "      <td>NaN</td>\n",
              "      <td>NaN</td>\n",
              "    </tr>\n",
              "    <tr>\n",
              "      <th>3</th>\n",
              "      <td>2017</td>\n",
              "      <td>33</td>\n",
              "      <td>45345</td>\n",
              "      <td>100XX W OHARE AIRPORT</td>\n",
              "      <td>T900</td>\n",
              "      <td>GRAVID</td>\n",
              "      <td>08/17/2017 12:08:00 AM</td>\n",
              "      <td>17</td>\n",
              "      <td>positive</td>\n",
              "      <td>CULEX PIPIENS/RESTUANS</td>\n",
              "      <td>NaN</td>\n",
              "      <td>NaN</td>\n",
              "      <td>NaN</td>\n",
              "    </tr>\n",
              "    <tr>\n",
              "      <th>4</th>\n",
              "      <td>2016</td>\n",
              "      <td>37</td>\n",
              "      <td>44169</td>\n",
              "      <td>4XX W 127TH</td>\n",
              "      <td>T135</td>\n",
              "      <td>GRAVID</td>\n",
              "      <td>09/15/2016 12:09:00 AM</td>\n",
              "      <td>12</td>\n",
              "      <td>negative</td>\n",
              "      <td>CULEX PIPIENS/RESTUANS</td>\n",
              "      <td>NaN</td>\n",
              "      <td>NaN</td>\n",
              "      <td>NaN</td>\n",
              "    </tr>\n",
              "  </tbody>\n",
              "</table>\n",
              "</div>\n",
              "      <button class=\"colab-df-convert\" onclick=\"convertToInteractive('df-8d63a62f-d9e2-4b93-987b-a318ee9fabdc')\"\n",
              "              title=\"Convert this dataframe to an interactive table.\"\n",
              "              style=\"display:none;\">\n",
              "        \n",
              "  <svg xmlns=\"http://www.w3.org/2000/svg\" height=\"24px\"viewBox=\"0 0 24 24\"\n",
              "       width=\"24px\">\n",
              "    <path d=\"M0 0h24v24H0V0z\" fill=\"none\"/>\n",
              "    <path d=\"M18.56 5.44l.94 2.06.94-2.06 2.06-.94-2.06-.94-.94-2.06-.94 2.06-2.06.94zm-11 1L8.5 8.5l.94-2.06 2.06-.94-2.06-.94L8.5 2.5l-.94 2.06-2.06.94zm10 10l.94 2.06.94-2.06 2.06-.94-2.06-.94-.94-2.06-.94 2.06-2.06.94z\"/><path d=\"M17.41 7.96l-1.37-1.37c-.4-.4-.92-.59-1.43-.59-.52 0-1.04.2-1.43.59L10.3 9.45l-7.72 7.72c-.78.78-.78 2.05 0 2.83L4 21.41c.39.39.9.59 1.41.59.51 0 1.02-.2 1.41-.59l7.78-7.78 2.81-2.81c.8-.78.8-2.07 0-2.86zM5.41 20L4 18.59l7.72-7.72 1.47 1.35L5.41 20z\"/>\n",
              "  </svg>\n",
              "      </button>\n",
              "      \n",
              "  <style>\n",
              "    .colab-df-container {\n",
              "      display:flex;\n",
              "      flex-wrap:wrap;\n",
              "      gap: 12px;\n",
              "    }\n",
              "\n",
              "    .colab-df-convert {\n",
              "      background-color: #E8F0FE;\n",
              "      border: none;\n",
              "      border-radius: 50%;\n",
              "      cursor: pointer;\n",
              "      display: none;\n",
              "      fill: #1967D2;\n",
              "      height: 32px;\n",
              "      padding: 0 0 0 0;\n",
              "      width: 32px;\n",
              "    }\n",
              "\n",
              "    .colab-df-convert:hover {\n",
              "      background-color: #E2EBFA;\n",
              "      box-shadow: 0px 1px 2px rgba(60, 64, 67, 0.3), 0px 1px 3px 1px rgba(60, 64, 67, 0.15);\n",
              "      fill: #174EA6;\n",
              "    }\n",
              "\n",
              "    [theme=dark] .colab-df-convert {\n",
              "      background-color: #3B4455;\n",
              "      fill: #D2E3FC;\n",
              "    }\n",
              "\n",
              "    [theme=dark] .colab-df-convert:hover {\n",
              "      background-color: #434B5C;\n",
              "      box-shadow: 0px 1px 3px 1px rgba(0, 0, 0, 0.15);\n",
              "      filter: drop-shadow(0px 1px 2px rgba(0, 0, 0, 0.3));\n",
              "      fill: #FFFFFF;\n",
              "    }\n",
              "  </style>\n",
              "\n",
              "      <script>\n",
              "        const buttonEl =\n",
              "          document.querySelector('#df-8d63a62f-d9e2-4b93-987b-a318ee9fabdc button.colab-df-convert');\n",
              "        buttonEl.style.display =\n",
              "          google.colab.kernel.accessAllowed ? 'block' : 'none';\n",
              "\n",
              "        async function convertToInteractive(key) {\n",
              "          const element = document.querySelector('#df-8d63a62f-d9e2-4b93-987b-a318ee9fabdc');\n",
              "          const dataTable =\n",
              "            await google.colab.kernel.invokeFunction('convertToInteractive',\n",
              "                                                     [key], {});\n",
              "          if (!dataTable) return;\n",
              "\n",
              "          const docLinkHtml = 'Like what you see? Visit the ' +\n",
              "            '<a target=\"_blank\" href=https://colab.research.google.com/notebooks/data_table.ipynb>data table notebook</a>'\n",
              "            + ' to learn more about interactive tables.';\n",
              "          element.innerHTML = '';\n",
              "          dataTable['output_type'] = 'display_data';\n",
              "          await google.colab.output.renderOutput(dataTable, element);\n",
              "          const docLink = document.createElement('div');\n",
              "          docLink.innerHTML = docLinkHtml;\n",
              "          element.appendChild(docLink);\n",
              "        }\n",
              "      </script>\n",
              "    </div>\n",
              "  </div>\n",
              "  "
            ]
          },
          "metadata": {},
          "execution_count": 2
        }
      ],
      "source": [
        "df = pd.read_csv(\"https://raw.githubusercontent.com/shstreuber/Data-Mining/master/data/West_Nile_Virus__WNV__Mosquito_Test_Results.csv\")\n",
        "df.head()"
      ]
    },
    {
      "cell_type": "markdown",
      "id": "1a827c40",
      "metadata": {
        "id": "1a827c40"
      },
      "source": [
        "## 3. Transform one attribute from categorical or string to numeric"
      ]
    },
    {
      "cell_type": "code",
      "execution_count": null,
      "id": "9bf877ff",
      "metadata": {
        "id": "9bf877ff"
      },
      "outputs": [],
      "source": [
        "df['TRAP'] = df['TRAP'].astype('category')\n",
        "df['TRAP'] = df['TRAP'].cat.codes"
      ]
    },
    {
      "cell_type": "markdown",
      "id": "8c2ae5af",
      "metadata": {
        "id": "8c2ae5af"
      },
      "source": [
        "## 4. Normalize or Standardize the this attribute"
      ]
    },
    {
      "cell_type": "code",
      "execution_count": null,
      "id": "7249a22b",
      "metadata": {
        "id": "7249a22b"
      },
      "outputs": [],
      "source": [
        "from sklearn import preprocessing\n",
        "from sklearn.preprocessing import StandardScaler"
      ]
    },
    {
      "cell_type": "code",
      "execution_count": null,
      "id": "05ae9e6b",
      "metadata": {
        "id": "05ae9e6b"
      },
      "outputs": [],
      "source": [
        "#Normalize\n",
        "x = df['TRAP'].values\n",
        "min_max_scaler = preprocessing.MinMaxScaler()\n",
        "\n",
        "df['TRAP'] = min_max_scaler.fit_transform(np.reshape(x,(-1,1)))"
      ]
    },
    {
      "cell_type": "markdown",
      "id": "bd3f4ca2",
      "metadata": {
        "id": "bd3f4ca2"
      },
      "source": [
        "## 5 Transform a second attribute from numeric to 5 categories: xs -- s -- m -- l -- xl. Put these values into their OWN column."
      ]
    },
    {
      "cell_type": "code",
      "execution_count": null,
      "id": "da242c84",
      "metadata": {
        "id": "da242c84"
      },
      "outputs": [],
      "source": [
        "bins = np.linspace(df['NUMBER OF MOSQUITOES'].min(),df['NUMBER OF MOSQUITOES'].max(),6)\n",
        "\n",
        "labels = ['xs','s','m','l','xl']\n",
        "\n",
        "df['NUMBER OF MOSQUITOES'] = pd.cut(df['NUMBER OF MOSQUITOES'] , bins=bins, labels=labels, include_lowest=True)"
      ]
    },
    {
      "cell_type": "code",
      "execution_count": null,
      "id": "48a2cb8a",
      "metadata": {
        "colab": {
          "base_uri": "https://localhost:8080/"
        },
        "id": "48a2cb8a",
        "outputId": "50183414-0251-4b11-f3c9-27105e7b71c8"
      },
      "outputs": [
        {
          "output_type": "execute_result",
          "data": {
            "text/plain": [
              "xs    22212\n",
              "s      3036\n",
              "l      2573\n",
              "m      1667\n",
              "xl        1\n",
              "Name: NUMBER OF MOSQUITOES, dtype: int64"
            ]
          },
          "metadata": {},
          "execution_count": 7
        }
      ],
      "source": [
        "df['NUMBER OF MOSQUITOES'].value_counts()"
      ]
    },
    {
      "cell_type": "markdown",
      "id": "e31cdc57",
      "metadata": {
        "id": "e31cdc57"
      },
      "source": [
        "## 6 In a third attribute, find all the missing values and substitute them with \"null\" "
      ]
    },
    {
      "cell_type": "code",
      "execution_count": null,
      "id": "5d49b9d8",
      "metadata": {
        "id": "5d49b9d8"
      },
      "outputs": [],
      "source": [
        "df.LATITUDE.replace(np.nan,'null',inplace=True)"
      ]
    },
    {
      "cell_type": "code",
      "execution_count": null,
      "id": "2d8a7845",
      "metadata": {
        "colab": {
          "base_uri": "https://localhost:8080/"
        },
        "id": "2d8a7845",
        "outputId": "7088eed8-ad2c-49a1-b7bf-63aeb87d245e"
      },
      "outputs": [
        {
          "output_type": "execute_result",
          "data": {
            "text/plain": [
              "0"
            ]
          },
          "metadata": {},
          "execution_count": 9
        }
      ],
      "source": [
        "df['LATITUDE'].isnull().sum()"
      ]
    },
    {
      "cell_type": "markdown",
      "id": "9454a997",
      "metadata": {
        "id": "9454a997"
      },
      "source": [
        "## 7 Perform a 5-number summary for another numerical attribute. "
      ]
    },
    {
      "cell_type": "code",
      "execution_count": null,
      "id": "ca59af09",
      "metadata": {
        "colab": {
          "base_uri": "https://localhost:8080/"
        },
        "id": "ca59af09",
        "outputId": "c1a8e696-202e-4327-c718-7e9436a260a2"
      },
      "outputs": [
        {
          "output_type": "execute_result",
          "data": {
            "text/plain": [
              "count    29489.000000\n",
              "mean     35155.917156\n",
              "std       8630.314684\n",
              "min      20000.000000\n",
              "25%      27718.000000\n",
              "50%      35150.000000\n",
              "75%      42641.000000\n",
              "max      50029.000000\n",
              "Name: TEST ID, dtype: float64"
            ]
          },
          "metadata": {},
          "execution_count": 10
        }
      ],
      "source": [
        "df['TEST ID'].describe()"
      ]
    },
    {
      "cell_type": "markdown",
      "id": "52d9f11d",
      "metadata": {
        "id": "52d9f11d"
      },
      "source": [
        "## 8 Split the dataset into 80% training set and 20% test set with sampling."
      ]
    },
    {
      "cell_type": "code",
      "execution_count": null,
      "id": "9ee27d39",
      "metadata": {
        "id": "9ee27d39"
      },
      "outputs": [],
      "source": [
        "train_dataset = df.sample(frac=0.8, random_state=0)\n",
        "test_dataset = df.drop(train_dataset.index)"
      ]
    },
    {
      "cell_type": "markdown",
      "id": "1becbbf4",
      "metadata": {
        "id": "1becbbf4"
      },
      "source": [
        "## 9 Split the dataset into 75% training set and 25% test set with crossvalidation"
      ]
    },
    {
      "cell_type": "code",
      "execution_count": null,
      "id": "27964496",
      "metadata": {
        "id": "27964496"
      },
      "outputs": [],
      "source": [
        "from sklearn.model_selection import train_test_split\n",
        "train, test = train_test_split(df, test_size = 0.2)"
      ]
    },
    {
      "cell_type": "markdown",
      "id": "9f6e7a55",
      "metadata": {
        "id": "9f6e7a55"
      },
      "source": [
        "## 10 Pick the 3 most important attributes and make a correlation matrix "
      ]
    },
    {
      "cell_type": "code",
      "execution_count": null,
      "id": "4494019f",
      "metadata": {
        "colab": {
          "base_uri": "https://localhost:8080/",
          "height": 143
        },
        "id": "4494019f",
        "outputId": "85aa6822-455c-4ca5-eef2-ca8785bcad14"
      },
      "outputs": [
        {
          "output_type": "execute_result",
          "data": {
            "text/plain": [
              "             SEASON YEAR      WEEK      TRAP\n",
              "SEASON YEAR     1.000000  0.005214  0.072615\n",
              "WEEK            0.005214  1.000000 -0.010129\n",
              "TRAP            0.072615 -0.010129  1.000000"
            ],
            "text/html": [
              "\n",
              "  <div id=\"df-b9bcab14-ba06-491d-8b26-09a95ac8201e\">\n",
              "    <div class=\"colab-df-container\">\n",
              "      <div>\n",
              "<style scoped>\n",
              "    .dataframe tbody tr th:only-of-type {\n",
              "        vertical-align: middle;\n",
              "    }\n",
              "\n",
              "    .dataframe tbody tr th {\n",
              "        vertical-align: top;\n",
              "    }\n",
              "\n",
              "    .dataframe thead th {\n",
              "        text-align: right;\n",
              "    }\n",
              "</style>\n",
              "<table border=\"1\" class=\"dataframe\">\n",
              "  <thead>\n",
              "    <tr style=\"text-align: right;\">\n",
              "      <th></th>\n",
              "      <th>SEASON YEAR</th>\n",
              "      <th>WEEK</th>\n",
              "      <th>TRAP</th>\n",
              "    </tr>\n",
              "  </thead>\n",
              "  <tbody>\n",
              "    <tr>\n",
              "      <th>SEASON YEAR</th>\n",
              "      <td>1.000000</td>\n",
              "      <td>0.005214</td>\n",
              "      <td>0.072615</td>\n",
              "    </tr>\n",
              "    <tr>\n",
              "      <th>WEEK</th>\n",
              "      <td>0.005214</td>\n",
              "      <td>1.000000</td>\n",
              "      <td>-0.010129</td>\n",
              "    </tr>\n",
              "    <tr>\n",
              "      <th>TRAP</th>\n",
              "      <td>0.072615</td>\n",
              "      <td>-0.010129</td>\n",
              "      <td>1.000000</td>\n",
              "    </tr>\n",
              "  </tbody>\n",
              "</table>\n",
              "</div>\n",
              "      <button class=\"colab-df-convert\" onclick=\"convertToInteractive('df-b9bcab14-ba06-491d-8b26-09a95ac8201e')\"\n",
              "              title=\"Convert this dataframe to an interactive table.\"\n",
              "              style=\"display:none;\">\n",
              "        \n",
              "  <svg xmlns=\"http://www.w3.org/2000/svg\" height=\"24px\"viewBox=\"0 0 24 24\"\n",
              "       width=\"24px\">\n",
              "    <path d=\"M0 0h24v24H0V0z\" fill=\"none\"/>\n",
              "    <path d=\"M18.56 5.44l.94 2.06.94-2.06 2.06-.94-2.06-.94-.94-2.06-.94 2.06-2.06.94zm-11 1L8.5 8.5l.94-2.06 2.06-.94-2.06-.94L8.5 2.5l-.94 2.06-2.06.94zm10 10l.94 2.06.94-2.06 2.06-.94-2.06-.94-.94-2.06-.94 2.06-2.06.94z\"/><path d=\"M17.41 7.96l-1.37-1.37c-.4-.4-.92-.59-1.43-.59-.52 0-1.04.2-1.43.59L10.3 9.45l-7.72 7.72c-.78.78-.78 2.05 0 2.83L4 21.41c.39.39.9.59 1.41.59.51 0 1.02-.2 1.41-.59l7.78-7.78 2.81-2.81c.8-.78.8-2.07 0-2.86zM5.41 20L4 18.59l7.72-7.72 1.47 1.35L5.41 20z\"/>\n",
              "  </svg>\n",
              "      </button>\n",
              "      \n",
              "  <style>\n",
              "    .colab-df-container {\n",
              "      display:flex;\n",
              "      flex-wrap:wrap;\n",
              "      gap: 12px;\n",
              "    }\n",
              "\n",
              "    .colab-df-convert {\n",
              "      background-color: #E8F0FE;\n",
              "      border: none;\n",
              "      border-radius: 50%;\n",
              "      cursor: pointer;\n",
              "      display: none;\n",
              "      fill: #1967D2;\n",
              "      height: 32px;\n",
              "      padding: 0 0 0 0;\n",
              "      width: 32px;\n",
              "    }\n",
              "\n",
              "    .colab-df-convert:hover {\n",
              "      background-color: #E2EBFA;\n",
              "      box-shadow: 0px 1px 2px rgba(60, 64, 67, 0.3), 0px 1px 3px 1px rgba(60, 64, 67, 0.15);\n",
              "      fill: #174EA6;\n",
              "    }\n",
              "\n",
              "    [theme=dark] .colab-df-convert {\n",
              "      background-color: #3B4455;\n",
              "      fill: #D2E3FC;\n",
              "    }\n",
              "\n",
              "    [theme=dark] .colab-df-convert:hover {\n",
              "      background-color: #434B5C;\n",
              "      box-shadow: 0px 1px 3px 1px rgba(0, 0, 0, 0.15);\n",
              "      filter: drop-shadow(0px 1px 2px rgba(0, 0, 0, 0.3));\n",
              "      fill: #FFFFFF;\n",
              "    }\n",
              "  </style>\n",
              "\n",
              "      <script>\n",
              "        const buttonEl =\n",
              "          document.querySelector('#df-b9bcab14-ba06-491d-8b26-09a95ac8201e button.colab-df-convert');\n",
              "        buttonEl.style.display =\n",
              "          google.colab.kernel.accessAllowed ? 'block' : 'none';\n",
              "\n",
              "        async function convertToInteractive(key) {\n",
              "          const element = document.querySelector('#df-b9bcab14-ba06-491d-8b26-09a95ac8201e');\n",
              "          const dataTable =\n",
              "            await google.colab.kernel.invokeFunction('convertToInteractive',\n",
              "                                                     [key], {});\n",
              "          if (!dataTable) return;\n",
              "\n",
              "          const docLinkHtml = 'Like what you see? Visit the ' +\n",
              "            '<a target=\"_blank\" href=https://colab.research.google.com/notebooks/data_table.ipynb>data table notebook</a>'\n",
              "            + ' to learn more about interactive tables.';\n",
              "          element.innerHTML = '';\n",
              "          dataTable['output_type'] = 'display_data';\n",
              "          await google.colab.output.renderOutput(dataTable, element);\n",
              "          const docLink = document.createElement('div');\n",
              "          docLink.innerHTML = docLinkHtml;\n",
              "          element.appendChild(docLink);\n",
              "        }\n",
              "      </script>\n",
              "    </div>\n",
              "  </div>\n",
              "  "
            ]
          },
          "metadata": {},
          "execution_count": 13
        }
      ],
      "source": [
        "df[['SEASON YEAR','WEEK','TRAP']].corr()"
      ]
    },
    {
      "cell_type": "code",
      "execution_count": null,
      "id": "bc4c3b09",
      "metadata": {
        "id": "bc4c3b09"
      },
      "outputs": [],
      "source": [
        ""
      ]
    },
    {
      "cell_type": "code",
      "execution_count": null,
      "id": "381cd87f",
      "metadata": {
        "id": "381cd87f"
      },
      "outputs": [],
      "source": [
        "from sklearn.ensemble import RandomForestClassifier"
      ]
    },
    {
      "cell_type": "code",
      "execution_count": null,
      "id": "947a21a2",
      "metadata": {
        "id": "947a21a2"
      },
      "outputs": [],
      "source": [
        "df['BLOCK'] = df['BLOCK'].astype('category')\n",
        "df['BLOCK'] = df['BLOCK'].cat.codes\n",
        "\n",
        "df['TRAP_TYPE'] = df['TRAP_TYPE'].astype('category')\n",
        "df['TRAP_TYPE'] = df['TRAP_TYPE'].cat.codes\n",
        "\n",
        "df['TEST DATE'] = df['TEST DATE'].astype('category')\n",
        "df['TEST DATE'] = df['TEST DATE'].cat.codes\n",
        "\n",
        "df['RESULT'] = df['RESULT'].astype('category')\n",
        "df['RESULT'] = df['RESULT'].cat.codes\n",
        "\n",
        "df['SPECIES'] = df['SPECIES'].astype('category')\n",
        "df['SPECIES'] = df['SPECIES'].cat.codes\n",
        "\n",
        "df['LATITUDE'] = df['LATITUDE'].astype('category')\n",
        "df['LATITUDE'] = df['LATITUDE'].cat.codes\n",
        "\n",
        "df['LOCATION'] = df['LOCATION'].astype('category')\n",
        "df['LOCATION'] = df['LOCATION'].cat.codes\n",
        "\n",
        "df.LONGITUDE.replace(np.nan,0,inplace=True)"
      ]
    },
    {
      "cell_type": "code",
      "execution_count": null,
      "id": "5aba361d",
      "metadata": {
        "id": "5aba361d"
      },
      "outputs": [],
      "source": [
        "X = df.drop('NUMBER OF MOSQUITOES',axis=1)\n",
        "y = df['NUMBER OF MOSQUITOES']\n",
        "\n",
        "X_train, X_test, y_train, y_test = train_test_split(X, y, test_size = 0.2)"
      ]
    },
    {
      "cell_type": "code",
      "execution_count": null,
      "id": "b6cd47da",
      "metadata": {
        "colab": {
          "base_uri": "https://localhost:8080/"
        },
        "id": "b6cd47da",
        "outputId": "8e20d859-f6cd-4a71-d81b-be832c83c2cf"
      },
      "outputs": [
        {
          "output_type": "execute_result",
          "data": {
            "text/plain": [
              "RandomForestClassifier()"
            ]
          },
          "metadata": {},
          "execution_count": 17
        }
      ],
      "source": [
        "rf = RandomForestClassifier()\n",
        "rf.fit(X_train,y_train)"
      ]
    },
    {
      "cell_type": "code",
      "execution_count": null,
      "id": "9b307a43",
      "metadata": {
        "id": "9b307a43"
      },
      "outputs": [],
      "source": [
        "y_pred = rf.predict(X_test)"
      ]
    },
    {
      "cell_type": "code",
      "execution_count": null,
      "id": "11e63bba",
      "metadata": {
        "colab": {
          "base_uri": "https://localhost:8080/"
        },
        "id": "11e63bba",
        "outputId": "3ca6f572-ab8f-4c09-a1c2-c1760431ef0b"
      },
      "outputs": [
        {
          "output_type": "execute_result",
          "data": {
            "text/plain": [
              "0.7956934554086131"
            ]
          },
          "metadata": {},
          "execution_count": 19
        }
      ],
      "source": [
        "from sklearn.metrics import accuracy_score\n",
        "accuracy_score(y_test, y_pred)\n"
      ]
    },
    {
      "cell_type": "markdown",
      "id": "7cbc0bd0",
      "metadata": {
        "id": "7cbc0bd0"
      },
      "source": [
        "## 12 Build a confusion matrix and a classification report"
      ]
    },
    {
      "cell_type": "code",
      "execution_count": null,
      "id": "2f2f8537",
      "metadata": {
        "colab": {
          "base_uri": "https://localhost:8080/",
          "height": 296
        },
        "id": "2f2f8537",
        "outputId": "4cdbcfe0-e331-40d1-ed60-1ecd79f0c41b"
      },
      "outputs": [
        {
          "output_type": "execute_result",
          "data": {
            "text/plain": [
              "<sklearn.metrics._plot.confusion_matrix.ConfusionMatrixDisplay at 0x7f63efa32910>"
            ]
          },
          "metadata": {},
          "execution_count": 20
        },
        {
          "output_type": "display_data",
          "data": {
            "text/plain": [
              "<Figure size 432x288 with 2 Axes>"
            ],
            "image/png": "[encoded data removed]"
          },
          "metadata": {
            "needs_background": "light"
          }
        }
      ],
      "source": [
        "# Next, the Confusion Matrix\n",
        "from sklearn.metrics import plot_confusion_matrix\n",
        "plot_confusion_matrix(rf, X_test, y_test)"
      ]
    },
    {
      "cell_type": "code",
      "execution_count": null,
      "id": "fd25f066",
      "metadata": {
        "colab": {
          "base_uri": "https://localhost:8080/"
        },
        "id": "fd25f066",
        "outputId": "03202d38-d252-4841-8326-6f29858a76ee"
      },
      "outputs": [
        {
          "output_type": "stream",
          "name": "stdout",
          "text": [
            "              precision    recall  f1-score   support\n",
            "\n",
            "          xs       0.87      0.96      0.91      4448\n",
            "           s       0.26      0.11      0.16       602\n",
            "           m       0.21      0.11      0.15       329\n",
            "           l       0.60      0.63      0.61       518\n",
            "          xl       0.00      0.00      0.00         1\n",
            "\n",
            "    accuracy                           0.80      5898\n",
            "   macro avg       0.39      0.36      0.37      5898\n",
            "weighted avg       0.75      0.80      0.77      5898\n",
            "\n"
          ]
        }
      ],
      "source": [
        "from sklearn.metrics import classification_report\n",
        "\n",
        "print(metrics.classification_report(y_test, y_pred, labels=['xs','s','m','l','xl']))"
      ]
    },
    {
      "cell_type": "markdown",
      "id": "1c84a08f",
      "metadata": {
        "id": "1c84a08f"
      },
      "source": [
        "## 13 Build a kMeans cluster analysis with an elbow plot"
      ]
    },
    {
      "cell_type": "code",
      "execution_count": null,
      "id": "9910d65b",
      "metadata": {
        "id": "9910d65b"
      },
      "outputs": [],
      "source": [
        "from sklearn.cluster import KMeans"
      ]
    },
    {
      "cell_type": "code",
      "execution_count": null,
      "id": "056cf18c",
      "metadata": {
        "id": "056cf18c"
      },
      "outputs": [],
      "source": [
        "# Elbow method\n",
        "\n",
        "def elbow_plot(data, maxK=10, seed_centroids=None):\n",
        "    \"\"\"\n",
        "        parameters:\n",
        "        - data: pandas DataFrame (data to be fitted)\n",
        "        - maxK (default = 10): integer (maximum number of clusters with which to run k-means)\n",
        "        - seed_centroids (default = None ): float (initial value of centroids for k-means)\n",
        "    \"\"\"\n",
        "    sse = {}\n",
        "    for k in range(1, maxK):\n",
        "        print(\"k: \", k)\n",
        "        if seed_centroids is not None:\n",
        "            seeds = seed_centroids.head(k)\n",
        "            kmeans = KMeans(n_clusters=k, max_iter=500, n_init=100, random_state=0, init=np.reshape(seeds, (k,1))).fit(data)\n",
        "            data[\"clusters\"] = kmeans.labels_\n",
        "        else:\n",
        "            kmeans = KMeans(n_clusters=k, max_iter=300, n_init=100, random_state=0).fit(data)\n",
        "            data[\"clusters\"] = kmeans.labels_\n",
        "        # Inertia: Sum of distances of samples to their closest cluster center\n",
        "        sse[k] = kmeans.inertia_\n",
        "    plt.figure()\n",
        "    plt.plot(list(sse.keys()), list(sse.values()))\n",
        "    plt.show()\n",
        "    return"
      ]
    },
    {
      "cell_type": "code",
      "execution_count": null,
      "id": "faddd61b",
      "metadata": {
        "colab": {
          "base_uri": "https://localhost:8080/",
          "height": 432
        },
        "id": "faddd61b",
        "outputId": "ce209391-a6aa-4e5e-b4e9-7bbc77f24fd8"
      },
      "outputs": [
        {
          "output_type": "stream",
          "name": "stdout",
          "text": [
            "k:  1\n",
            "k:  2\n",
            "k:  3\n",
            "k:  4\n",
            "k:  5\n",
            "k:  6\n",
            "k:  7\n",
            "k:  8\n",
            "k:  9\n"
          ]
        },
        {
          "output_type": "display_data",
          "data": {
            "text/plain": [
              "<Figure size 432x288 with 1 Axes>"
            ],
            "image/png": "[encoded data removed]"
          },
          "metadata": {
            "needs_background": "light"
          }
        }
      ],
      "source": [
        "elbow_plot(X,maxK=10)"
      ]
    },
    {
      "cell_type": "code",
      "execution_count": null,
      "id": "1f3d5cc9",
      "metadata": {
        "id": "1f3d5cc9"
      },
      "outputs": [],
      "source": [
        ""
      ]
    },
    {
      "cell_type": "code",
      "execution_count": null,
      "id": "bb8fdd39",
      "metadata": {
        "id": "bb8fdd39"
      },
      "outputs": [],
      "source": [
        ""
      ]
    }
  ],
  "metadata": {
    "kernelspec": {
      "display_name": "Python 3 (ipykernel)",
      "language": "python",
      "name": "python3"
    },
    "language_info": {
      "codemirror_mode": {
        "name": "ipython",
        "version": 3
      },
      "file_extension": ".py",
      "mimetype": "text/x-python",
      "name": "python",
      "nbconvert_exporter": "python",
      "pygments_lexer": "ipython3",
      "version": "3.9.12"
    },
    "colab": {
      "name": "Rohit_optional.ipynb",
      "provenance": []
    }
  },
  "nbformat": 4,
  "nbformat_minor": 5
}